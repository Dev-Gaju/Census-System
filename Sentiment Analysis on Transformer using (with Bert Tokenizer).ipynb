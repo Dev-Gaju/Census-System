{
 "cells": [
  {
   "cell_type": "markdown",
   "id": "f88a40c4",
   "metadata": {
    "papermill": {
     "duration": 0.046122,
     "end_time": "2021-10-19T11:45:11.524789",
     "exception": false,
     "start_time": "2021-10-19T11:45:11.478667",
     "status": "completed"
    },
    "tags": []
   },
   "source": [
    " ## Six Steps to do that \n",
    " * Download the dataset\n",
    " * Intializing the hugging face tokenizer and Model\n",
    " * Input data decode to get input_id and attention_tensors\n",
    " * build full model (input layer go bert and output layer post bert)\n",
    " * Optimizer, metrics and losses\n",
    " * Train the model"
   ]
  },
  {
   "cell_type": "markdown",
   "id": "79188bb7",
   "metadata": {
    "papermill": {
     "duration": 0.04466,
     "end_time": "2021-10-19T11:45:11.705473",
     "exception": false,
     "start_time": "2021-10-19T11:45:11.660813",
     "status": "completed"
    },
    "tags": []
   },
   "source": [
    "#### unzipe the dataset file"
   ]
  },
  {
   "cell_type": "code",
   "execution_count": 2,
   "id": "bf8295a0",
   "metadata": {
    "execution": {
     "iopub.execute_input": "2021-10-19T11:45:11.911424Z",
     "iopub.status.busy": "2021-10-19T11:45:11.910679Z",
     "iopub.status.idle": "2021-10-19T11:45:12.244072Z",
     "shell.execute_reply": "2021-10-19T11:45:12.245663Z",
     "shell.execute_reply.started": "2021-10-19T11:42:42.760347Z"
    },
    "papermill": {
     "duration": 0.391083,
     "end_time": "2021-10-19T11:45:12.245937",
     "exception": false,
     "start_time": "2021-10-19T11:45:11.854854",
     "status": "completed"
    },
    "tags": []
   },
   "outputs": [
    {
     "data": {
      "text/html": [
       "<div>\n",
       "<style scoped>\n",
       "    .dataframe tbody tr th:only-of-type {\n",
       "        vertical-align: middle;\n",
       "    }\n",
       "\n",
       "    .dataframe tbody tr th {\n",
       "        vertical-align: top;\n",
       "    }\n",
       "\n",
       "    .dataframe thead th {\n",
       "        text-align: right;\n",
       "    }\n",
       "</style>\n",
       "<table border=\"1\" class=\"dataframe\">\n",
       "  <thead>\n",
       "    <tr style=\"text-align: right;\">\n",
       "      <th></th>\n",
       "      <th>PhraseId</th>\n",
       "      <th>SentenceId</th>\n",
       "      <th>Phrase</th>\n",
       "      <th>Sentiment</th>\n",
       "    </tr>\n",
       "  </thead>\n",
       "  <tbody>\n",
       "    <tr>\n",
       "      <th>0</th>\n",
       "      <td>1</td>\n",
       "      <td>1</td>\n",
       "      <td>A series of escapades demonstrating the adage ...</td>\n",
       "      <td>1</td>\n",
       "    </tr>\n",
       "    <tr>\n",
       "      <th>1</th>\n",
       "      <td>2</td>\n",
       "      <td>1</td>\n",
       "      <td>A series of escapades demonstrating the adage ...</td>\n",
       "      <td>2</td>\n",
       "    </tr>\n",
       "    <tr>\n",
       "      <th>2</th>\n",
       "      <td>3</td>\n",
       "      <td>1</td>\n",
       "      <td>A series</td>\n",
       "      <td>2</td>\n",
       "    </tr>\n",
       "    <tr>\n",
       "      <th>3</th>\n",
       "      <td>4</td>\n",
       "      <td>1</td>\n",
       "      <td>A</td>\n",
       "      <td>2</td>\n",
       "    </tr>\n",
       "    <tr>\n",
       "      <th>4</th>\n",
       "      <td>5</td>\n",
       "      <td>1</td>\n",
       "      <td>series</td>\n",
       "      <td>2</td>\n",
       "    </tr>\n",
       "  </tbody>\n",
       "</table>\n",
       "</div>"
      ],
      "text/plain": [
       "   PhraseId  SentenceId                                             Phrase  \\\n",
       "0         1           1  A series of escapades demonstrating the adage ...   \n",
       "1         2           1  A series of escapades demonstrating the adage ...   \n",
       "2         3           1                                           A series   \n",
       "3         4           1                                                  A   \n",
       "4         5           1                                             series   \n",
       "\n",
       "   Sentiment  \n",
       "0          1  \n",
       "1          2  \n",
       "2          2  \n",
       "3          2  \n",
       "4          2  "
      ]
     },
     "execution_count": 2,
     "metadata": {},
     "output_type": "execute_result"
    }
   ],
   "source": [
    "import pandas as pd\n",
    "df = pd.read_csv('../input/sentiment-analysis-on-movie-reviews/train.tsv.zip', sep='\\t')\n",
    "df.head()"
   ]
  },
  {
   "cell_type": "code",
   "execution_count": 3,
   "id": "2d2a3d5a",
   "metadata": {
    "execution": {
     "iopub.execute_input": "2021-10-19T11:45:12.490822Z",
     "iopub.status.busy": "2021-10-19T11:45:12.489717Z",
     "iopub.status.idle": "2021-10-19T11:45:12.513856Z",
     "shell.execute_reply": "2021-10-19T11:45:12.515300Z",
     "shell.execute_reply.started": "2021-10-19T11:42:43.039426Z"
    },
    "papermill": {
     "duration": 0.175049,
     "end_time": "2021-10-19T11:45:12.515551",
     "exception": false,
     "start_time": "2021-10-19T11:45:12.340502",
     "status": "completed"
    },
    "tags": []
   },
   "outputs": [
    {
     "data": {
      "text/html": [
       "<div>\n",
       "<style scoped>\n",
       "    .dataframe tbody tr th:only-of-type {\n",
       "        vertical-align: middle;\n",
       "    }\n",
       "\n",
       "    .dataframe tbody tr th {\n",
       "        vertical-align: top;\n",
       "    }\n",
       "\n",
       "    .dataframe thead th {\n",
       "        text-align: right;\n",
       "    }\n",
       "</style>\n",
       "<table border=\"1\" class=\"dataframe\">\n",
       "  <thead>\n",
       "    <tr style=\"text-align: right;\">\n",
       "      <th></th>\n",
       "      <th>PhraseId</th>\n",
       "      <th>SentenceId</th>\n",
       "      <th>Phrase</th>\n",
       "      <th>Sentiment</th>\n",
       "    </tr>\n",
       "  </thead>\n",
       "  <tbody>\n",
       "    <tr>\n",
       "      <th>0</th>\n",
       "      <td>1</td>\n",
       "      <td>1</td>\n",
       "      <td>A series of escapades demonstrating the adage ...</td>\n",
       "      <td>1</td>\n",
       "    </tr>\n",
       "    <tr>\n",
       "      <th>63</th>\n",
       "      <td>64</td>\n",
       "      <td>2</td>\n",
       "      <td>This quiet , introspective and entertaining in...</td>\n",
       "      <td>4</td>\n",
       "    </tr>\n",
       "    <tr>\n",
       "      <th>81</th>\n",
       "      <td>82</td>\n",
       "      <td>3</td>\n",
       "      <td>Even fans of Ismail Merchant 's work , I suspe...</td>\n",
       "      <td>1</td>\n",
       "    </tr>\n",
       "    <tr>\n",
       "      <th>116</th>\n",
       "      <td>117</td>\n",
       "      <td>4</td>\n",
       "      <td>A positively thrilling combination of ethnogra...</td>\n",
       "      <td>3</td>\n",
       "    </tr>\n",
       "    <tr>\n",
       "      <th>156</th>\n",
       "      <td>157</td>\n",
       "      <td>5</td>\n",
       "      <td>Aggressive self-glorification and a manipulati...</td>\n",
       "      <td>1</td>\n",
       "    </tr>\n",
       "  </tbody>\n",
       "</table>\n",
       "</div>"
      ],
      "text/plain": [
       "     PhraseId  SentenceId                                             Phrase  \\\n",
       "0           1           1  A series of escapades demonstrating the adage ...   \n",
       "63         64           2  This quiet , introspective and entertaining in...   \n",
       "81         82           3  Even fans of Ismail Merchant 's work , I suspe...   \n",
       "116       117           4  A positively thrilling combination of ethnogra...   \n",
       "156       157           5  Aggressive self-glorification and a manipulati...   \n",
       "\n",
       "     Sentiment  \n",
       "0            1  \n",
       "63           4  \n",
       "81           1  \n",
       "116          3  \n",
       "156          1  "
      ]
     },
     "execution_count": 3,
     "metadata": {},
     "output_type": "execute_result"
    }
   ],
   "source": [
    "# drop the redundant element form dataset\n",
    "df.drop_duplicates(subset=\"SentenceId\",keep= 'first', inplace=True)\n",
    "df.head()"
   ]
  },
  {
   "cell_type": "code",
   "execution_count": 4,
   "id": "b4005146",
   "metadata": {
    "execution": {
     "iopub.execute_input": "2021-10-19T11:45:12.681755Z",
     "iopub.status.busy": "2021-10-19T11:45:12.680729Z",
     "iopub.status.idle": "2021-10-19T11:45:12.684830Z",
     "shell.execute_reply": "2021-10-19T11:45:12.685628Z",
     "shell.execute_reply.started": "2021-10-19T11:42:43.066023Z"
    },
    "papermill": {
     "duration": 0.088924,
     "end_time": "2021-10-19T11:45:12.685835",
     "exception": false,
     "start_time": "2021-10-19T11:45:12.596911",
     "status": "completed"
    },
    "tags": []
   },
   "outputs": [
    {
     "data": {
      "text/plain": [
       "8529"
      ]
     },
     "execution_count": 4,
     "metadata": {},
     "output_type": "execute_result"
    }
   ],
   "source": [
    "len(df)"
   ]
  },
  {
   "cell_type": "markdown",
   "id": "036ed5d9",
   "metadata": {
    "papermill": {
     "duration": 0.053822,
     "end_time": "2021-10-19T11:45:12.823890",
     "exception": false,
     "start_time": "2021-10-19T11:45:12.770068",
     "status": "completed"
    },
    "tags": []
   },
   "source": [
    "## Encoding data\n",
    "we used bert tokenizer which is pretrained"
   ]
  },
  {
   "cell_type": "code",
   "execution_count": 5,
   "id": "7f3bc731",
   "metadata": {
    "execution": {
     "iopub.execute_input": "2021-10-19T11:45:12.940043Z",
     "iopub.status.busy": "2021-10-19T11:45:12.939173Z",
     "iopub.status.idle": "2021-10-19T11:45:12.942521Z",
     "shell.execute_reply": "2021-10-19T11:45:12.942017Z",
     "shell.execute_reply.started": "2021-10-19T11:42:43.073652Z"
    },
    "papermill": {
     "duration": 0.071551,
     "end_time": "2021-10-19T11:45:12.942681",
     "exception": false,
     "start_time": "2021-10-19T11:45:12.871130",
     "status": "completed"
    },
    "tags": []
   },
   "outputs": [],
   "source": [
    "seqlen= df['Phrase'].apply(lambda x: len(x.split()))"
   ]
  },
  {
   "cell_type": "code",
   "execution_count": 6,
   "id": "30514cd5",
   "metadata": {
    "execution": {
     "iopub.execute_input": "2021-10-19T11:45:13.044469Z",
     "iopub.status.busy": "2021-10-19T11:45:13.043453Z",
     "iopub.status.idle": "2021-10-19T11:45:13.907222Z",
     "shell.execute_reply": "2021-10-19T11:45:13.906265Z",
     "shell.execute_reply.started": "2021-10-19T11:42:43.103210Z"
    },
    "papermill": {
     "duration": 0.916251,
     "end_time": "2021-10-19T11:45:13.907383",
     "exception": false,
     "start_time": "2021-10-19T11:45:12.991132",
     "status": "completed"
    },
    "tags": []
   },
   "outputs": [],
   "source": [
    "import seaborn as sns\n",
    "import matplotlib.pyplot as plt"
   ]
  },
  {
   "cell_type": "code",
   "execution_count": 7,
   "id": "d3cb3ebb",
   "metadata": {
    "execution": {
     "iopub.execute_input": "2021-10-19T11:45:14.014124Z",
     "iopub.status.busy": "2021-10-19T11:45:14.013238Z",
     "iopub.status.idle": "2021-10-19T11:45:14.657185Z",
     "shell.execute_reply": "2021-10-19T11:45:14.657891Z",
     "shell.execute_reply.started": "2021-10-19T11:42:43.863515Z"
    },
    "papermill": {
     "duration": 0.700203,
     "end_time": "2021-10-19T11:45:14.658083",
     "exception": false,
     "start_time": "2021-10-19T11:45:13.957880",
     "status": "completed"
    },
    "tags": []
   },
   "outputs": [
    {
     "name": "stderr",
     "output_type": "stream",
     "text": [
      "/opt/conda/lib/python3.7/site-packages/seaborn/distributions.py:2619: FutureWarning: `distplot` is a deprecated function and will be removed in a future version. Please adapt your code to use either `displot` (a figure-level function with similar flexibility) or `histplot` (an axes-level function for histograms).\n",
      "  warnings.warn(msg, FutureWarning)\n"
     ]
    },
    {
     "data": {
      "text/plain": [
       "Text(0.5, 1.0, 'Maximum data in a sentence')"
      ]
     },
     "execution_count": 7,
     "metadata": {},
     "output_type": "execute_result"
    },
    {
     "data": {
      "image/png": "[encoded data removed]",
      "text/plain": [
       "<Figure size 864x432 with 1 Axes>"
      ]
     },
     "metadata": {},
     "output_type": "display_data"
    }
   ],
   "source": [
    "sns.set_style('darkgrid')\n",
    "plt.figure(figsize=(12,6))\n",
    "sns.distplot(seqlen)\n",
    "plt.title(\"Maximum data in a sentence\")"
   ]
  },
  {
   "cell_type": "code",
   "execution_count": 8,
   "id": "b8ad68c8",
   "metadata": {
    "execution": {
     "iopub.execute_input": "2021-10-19T11:45:14.764191Z",
     "iopub.status.busy": "2021-10-19T11:45:14.763258Z",
     "iopub.status.idle": "2021-10-19T11:45:14.766792Z",
     "shell.execute_reply": "2021-10-19T11:45:14.766180Z",
     "shell.execute_reply.started": "2021-10-19T11:42:44.394965Z"
    },
    "papermill": {
     "duration": 0.05816,
     "end_time": "2021-10-19T11:45:14.766929",
     "exception": false,
     "start_time": "2021-10-19T11:45:14.708769",
     "status": "completed"
    },
    "tags": []
   },
   "outputs": [],
   "source": [
    "SEQ_LEN=50"
   ]
  },
  {
   "cell_type": "code",
   "execution_count": 9,
   "id": "9733313d",
   "metadata": {
    "execution": {
     "iopub.execute_input": "2021-10-19T11:45:14.871940Z",
     "iopub.status.busy": "2021-10-19T11:45:14.870828Z",
     "iopub.status.idle": "2021-10-19T11:45:16.777981Z",
     "shell.execute_reply": "2021-10-19T11:45:16.778622Z",
     "shell.execute_reply.started": "2021-10-19T11:42:44.400630Z"
    },
    "papermill": {
     "duration": 1.961911,
     "end_time": "2021-10-19T11:45:16.778827",
     "exception": false,
     "start_time": "2021-10-19T11:45:14.816916",
     "status": "completed"
    },
    "tags": []
   },
   "outputs": [],
   "source": [
    "#import tokenizer\n",
    "from transformers import AutoTokenizer"
   ]
  },
  {
   "cell_type": "markdown",
   "id": "01113986",
   "metadata": {
    "papermill": {
     "duration": 0.051139,
     "end_time": "2021-10-19T11:45:16.880438",
     "exception": false,
     "start_time": "2021-10-19T11:45:16.829299",
     "status": "completed"
    },
    "tags": []
   },
   "source": [
    "* `bert-base-cased` = Its usually make input as dataset. in sentiment analysis it better to used.(angry, sout word is always capital letter)\n",
    "* `bert-based-uncased`  = its make all the input in lowercase."
   ]
  },
  {
   "cell_type": "code",
   "execution_count": 10,
   "id": "d439f90d",
   "metadata": {
    "execution": {
     "iopub.execute_input": "2021-10-19T11:45:16.985339Z",
     "iopub.status.busy": "2021-10-19T11:45:16.984201Z",
     "iopub.status.idle": "2021-10-19T11:45:22.929862Z",
     "shell.execute_reply": "2021-10-19T11:45:22.929213Z",
     "shell.execute_reply.started": "2021-10-19T11:42:46.056837Z"
    },
    "papermill": {
     "duration": 6.00004,
     "end_time": "2021-10-19T11:45:22.930018",
     "exception": false,
     "start_time": "2021-10-19T11:45:16.929978",
     "status": "completed"
    },
    "tags": []
   },
   "outputs": [
    {
     "data": {
      "application/vnd.jupyter.widget-view+json": {
       "model_id": "36471f5ad7d3434888d7ce0453fd2b40",
       "version_major": 2,
       "version_minor": 0
      },
      "text/plain": [
       "Downloading:   0%|          | 0.00/570 [00:00<?, ?B/s]"
      ]
     },
     "metadata": {},
     "output_type": "display_data"
    },
    {
     "data": {
      "application/vnd.jupyter.widget-view+json": {
       "model_id": "a8e6209e39ec49369fe3943ed4a20a39",
       "version_major": 2,
       "version_minor": 0
      },
      "text/plain": [
       "Downloading:   0%|          | 0.00/213k [00:00<?, ?B/s]"
      ]
     },
     "metadata": {},
     "output_type": "display_data"
    },
    {
     "data": {
      "application/vnd.jupyter.widget-view+json": {
       "model_id": "af9c116c910f42e3b65445b90061f03e",
       "version_major": 2,
       "version_minor": 0
      },
      "text/plain": [
       "Downloading:   0%|          | 0.00/436k [00:00<?, ?B/s]"
      ]
     },
     "metadata": {},
     "output_type": "display_data"
    },
    {
     "data": {
      "application/vnd.jupyter.widget-view+json": {
       "model_id": "af4f041bfa864537bec54491dd4cee84",
       "version_major": 2,
       "version_minor": 0
      },
      "text/plain": [
       "Downloading:   0%|          | 0.00/29.0 [00:00<?, ?B/s]"
      ]
     },
     "metadata": {},
     "output_type": "display_data"
    }
   ],
   "source": [
    "tokenizer =AutoTokenizer.from_pretrained('bert-base-cased')  # analysis sentiment"
   ]
  },
  {
   "cell_type": "code",
   "execution_count": 11,
   "id": "fb2b2eec",
   "metadata": {
    "execution": {
     "iopub.execute_input": "2021-10-19T11:45:23.043716Z",
     "iopub.status.busy": "2021-10-19T11:45:23.042738Z",
     "iopub.status.idle": "2021-10-19T11:45:32.959492Z",
     "shell.execute_reply": "2021-10-19T11:45:32.958612Z",
     "shell.execute_reply.started": "2021-10-19T11:42:47.366022Z"
    },
    "papermill": {
     "duration": 9.975943,
     "end_time": "2021-10-19T11:45:32.959671",
     "exception": false,
     "start_time": "2021-10-19T11:45:22.983728",
     "status": "completed"
    },
    "tags": []
   },
   "outputs": [
    {
     "name": "stderr",
     "output_type": "stream",
     "text": [
      "2021-10-19 11:45:27.513656: I tensorflow/stream_executor/cuda/cuda_gpu_executor.cc:937] successful NUMA node read from SysFS had negative value (-1), but there must be at least one NUMA node, so returning NUMA node zero\n",
      "2021-10-19 11:45:27.515471: I tensorflow/stream_executor/cuda/cuda_gpu_executor.cc:937] successful NUMA node read from SysFS had negative value (-1), but there must be at least one NUMA node, so returning NUMA node zero\n",
      "2021-10-19 11:45:27.516659: I tensorflow/stream_executor/cuda/cuda_gpu_executor.cc:937] successful NUMA node read from SysFS had negative value (-1), but there must be at least one NUMA node, so returning NUMA node zero\n",
      "2021-10-19 11:45:27.519841: I tensorflow/core/platform/cpu_feature_guard.cc:142] This TensorFlow binary is optimized with oneAPI Deep Neural Network Library (oneDNN) to use the following CPU instructions in performance-critical operations:  AVX2 FMA\n",
      "To enable them in other operations, rebuild TensorFlow with the appropriate compiler flags.\n",
      "2021-10-19 11:45:27.521015: I tensorflow/stream_executor/cuda/cuda_gpu_executor.cc:937] successful NUMA node read from SysFS had negative value (-1), but there must be at least one NUMA node, so returning NUMA node zero\n",
      "2021-10-19 11:45:27.522088: I tensorflow/stream_executor/cuda/cuda_gpu_executor.cc:937] successful NUMA node read from SysFS had negative value (-1), but there must be at least one NUMA node, so returning NUMA node zero\n",
      "2021-10-19 11:45:27.523136: I tensorflow/stream_executor/cuda/cuda_gpu_executor.cc:937] successful NUMA node read from SysFS had negative value (-1), but there must be at least one NUMA node, so returning NUMA node zero\n",
      "2021-10-19 11:45:32.622517: I tensorflow/stream_executor/cuda/cuda_gpu_executor.cc:937] successful NUMA node read from SysFS had negative value (-1), but there must be at least one NUMA node, so returning NUMA node zero\n",
      "2021-10-19 11:45:32.623653: I tensorflow/stream_executor/cuda/cuda_gpu_executor.cc:937] successful NUMA node read from SysFS had negative value (-1), but there must be at least one NUMA node, so returning NUMA node zero\n",
      "2021-10-19 11:45:32.624705: I tensorflow/stream_executor/cuda/cuda_gpu_executor.cc:937] successful NUMA node read from SysFS had negative value (-1), but there must be at least one NUMA node, so returning NUMA node zero\n",
      "2021-10-19 11:45:32.625756: I tensorflow/core/common_runtime/gpu/gpu_device.cc:1510] Created device /job:localhost/replica:0/task:0/device:GPU:0 with 14959 MB memory:  -> device: 0, name: Tesla P100-PCIE-16GB, pci bus id: 0000:00:04.0, compute capability: 6.0\n"
     ]
    }
   ],
   "source": [
    "token= tokenizer.encode_plus(\"Hello world\", max_length= SEQ_LEN, truncation=True,  #truncation remove all the word grater than 50 \n",
    "                            padding= 'max_length', add_special_tokens=True, return_token_type_ids=False,  #return_token_type_ids not important\n",
    "                             return_attention_mask=True, return_tensors='tf' )"
   ]
  },
  {
   "cell_type": "code",
   "execution_count": 12,
   "id": "487ba6d5",
   "metadata": {
    "execution": {
     "iopub.execute_input": "2021-10-19T11:45:33.071661Z",
     "iopub.status.busy": "2021-10-19T11:45:33.070684Z",
     "iopub.status.idle": "2021-10-19T11:45:33.074702Z",
     "shell.execute_reply": "2021-10-19T11:45:33.075210Z",
     "shell.execute_reply.started": "2021-10-19T11:42:56.447970Z"
    },
    "papermill": {
     "duration": 0.063523,
     "end_time": "2021-10-19T11:45:33.075392",
     "exception": false,
     "start_time": "2021-10-19T11:45:33.011869",
     "status": "completed"
    },
    "tags": []
   },
   "outputs": [
    {
     "data": {
      "text/plain": [
       "{'input_ids': <tf.Tensor: shape=(1, 50), dtype=int32, numpy=\n",
       "array([[ 101, 8667, 1362,  102,    0,    0,    0,    0,    0,    0,    0,\n",
       "           0,    0,    0,    0,    0,    0,    0,    0,    0,    0,    0,\n",
       "           0,    0,    0,    0,    0,    0,    0,    0,    0,    0,    0,\n",
       "           0,    0,    0,    0,    0,    0,    0,    0,    0,    0,    0,\n",
       "           0,    0,    0,    0,    0,    0]], dtype=int32)>, 'attention_mask': <tf.Tensor: shape=(1, 50), dtype=int32, numpy=\n",
       "array([[1, 1, 1, 1, 0, 0, 0, 0, 0, 0, 0, 0, 0, 0, 0, 0, 0, 0, 0, 0, 0, 0,\n",
       "        0, 0, 0, 0, 0, 0, 0, 0, 0, 0, 0, 0, 0, 0, 0, 0, 0, 0, 0, 0, 0, 0,\n",
       "        0, 0, 0, 0, 0, 0]], dtype=int32)>}"
      ]
     },
     "execution_count": 12,
     "metadata": {},
     "output_type": "execute_result"
    }
   ],
   "source": [
    "token\n",
    "#here 101 is SOS\n",
    "#102 is EOS\n",
    "# two tensors input_ids and attenton_mask\n",
    "#8667 is id of hello and 1362 is world\n",
    "#all the zero is padding and is ignore \n",
    "#aqttention mask is used for treat 1 is is king and  0 is ignore \n"
   ]
  },
  {
   "cell_type": "code",
   "execution_count": 13,
   "id": "60a38099",
   "metadata": {
    "execution": {
     "iopub.execute_input": "2021-10-19T11:45:33.187512Z",
     "iopub.status.busy": "2021-10-19T11:45:33.186834Z",
     "iopub.status.idle": "2021-10-19T11:45:33.189924Z",
     "shell.execute_reply": "2021-10-19T11:45:33.190400Z",
     "shell.execute_reply.started": "2021-10-19T11:42:56.458433Z"
    },
    "papermill": {
     "duration": 0.059766,
     "end_time": "2021-10-19T11:45:33.190568",
     "exception": false,
     "start_time": "2021-10-19T11:45:33.130802",
     "status": "completed"
    },
    "tags": []
   },
   "outputs": [],
   "source": [
    "# used for loop for total  dataset\n",
    "import numpy as np"
   ]
  },
  {
   "cell_type": "code",
   "execution_count": 14,
   "id": "e8964985",
   "metadata": {
    "execution": {
     "iopub.execute_input": "2021-10-19T11:45:33.306016Z",
     "iopub.status.busy": "2021-10-19T11:45:33.304895Z",
     "iopub.status.idle": "2021-10-19T11:45:33.307646Z",
     "shell.execute_reply": "2021-10-19T11:45:33.308205Z",
     "shell.execute_reply.started": "2021-10-19T11:42:56.467570Z"
    },
    "papermill": {
     "duration": 0.065436,
     "end_time": "2021-10-19T11:45:33.308355",
     "exception": false,
     "start_time": "2021-10-19T11:45:33.242919",
     "status": "completed"
    },
    "tags": []
   },
   "outputs": [],
   "source": [
    "#intialized_two_arrays\n",
    "Xids= np.zeros((len(df),SEQ_LEN))  #ids\n",
    "Xmask=np.zeros((len(df), SEQ_LEN))  #sequence mask"
   ]
  },
  {
   "cell_type": "code",
   "execution_count": 15,
   "id": "dd1e0920",
   "metadata": {
    "execution": {
     "iopub.execute_input": "2021-10-19T11:45:33.420958Z",
     "iopub.status.busy": "2021-10-19T11:45:33.420169Z",
     "iopub.status.idle": "2021-10-19T11:45:33.423645Z",
     "shell.execute_reply": "2021-10-19T11:45:33.424143Z",
     "shell.execute_reply.started": "2021-10-19T11:42:56.477789Z"
    },
    "papermill": {
     "duration": 0.062055,
     "end_time": "2021-10-19T11:45:33.424324",
     "exception": false,
     "start_time": "2021-10-19T11:45:33.362269",
     "status": "completed"
    },
    "tags": []
   },
   "outputs": [
    {
     "data": {
      "text/plain": [
       "(8529, 50)"
      ]
     },
     "execution_count": 15,
     "metadata": {},
     "output_type": "execute_result"
    }
   ],
   "source": [
    "Xids.shape"
   ]
  },
  {
   "cell_type": "code",
   "execution_count": 16,
   "id": "1bd57824",
   "metadata": {
    "execution": {
     "iopub.execute_input": "2021-10-19T11:45:33.537299Z",
     "iopub.status.busy": "2021-10-19T11:45:33.536204Z",
     "iopub.status.idle": "2021-10-19T11:45:36.546224Z",
     "shell.execute_reply": "2021-10-19T11:45:36.545295Z",
     "shell.execute_reply.started": "2021-10-19T11:42:56.487224Z"
    },
    "papermill": {
     "duration": 3.067463,
     "end_time": "2021-10-19T11:45:36.546366",
     "exception": false,
     "start_time": "2021-10-19T11:45:33.478903",
     "status": "completed"
    },
    "tags": []
   },
   "outputs": [],
   "source": [
    "for i, sequences in enumerate(df['Phrase']):\n",
    "    tokens=tokenizer.encode_plus(sequences, max_length= SEQ_LEN, truncation=True,  #truncation remove all the word grater than 50 \n",
    "                            padding= 'max_length', add_special_tokens=True, return_token_type_ids=False,  #return_token_type_ids not important\n",
    "                             return_attention_mask=True, return_tensors='tf' )\n",
    "    Xids[i, :], Xmask[i, :]=tokens['input_ids'], tokens['attention_mask']"
   ]
  },
  {
   "cell_type": "code",
   "execution_count": 17,
   "id": "97c36031",
   "metadata": {
    "execution": {
     "iopub.execute_input": "2021-10-19T11:45:36.659979Z",
     "iopub.status.busy": "2021-10-19T11:45:36.658979Z",
     "iopub.status.idle": "2021-10-19T11:45:36.665183Z",
     "shell.execute_reply": "2021-10-19T11:45:36.665737Z",
     "shell.execute_reply.started": "2021-10-19T11:42:58.313107Z"
    },
    "papermill": {
     "duration": 0.064243,
     "end_time": "2021-10-19T11:45:36.665969",
     "exception": false,
     "start_time": "2021-10-19T11:45:36.601726",
     "status": "completed"
    },
    "tags": []
   },
   "outputs": [
    {
     "data": {
      "text/plain": [
       "array([[ 101.,  138., 1326., ...,    0.,    0.,    0.],\n",
       "       [ 101., 1188., 3589., ...,    0.,    0.,    0.],\n",
       "       [ 101., 2431., 3899., ...,    0.,    0.,    0.],\n",
       "       ...,\n",
       "       [ 101.,  118.,  149., ...,    0.,    0.,    0.],\n",
       "       [ 101., 1109., 2523., ...,    0.,    0.,    0.],\n",
       "       [ 101., 1109., 1273., ...,    0.,    0.,    0.]])"
      ]
     },
     "execution_count": 17,
     "metadata": {},
     "output_type": "execute_result"
    }
   ],
   "source": [
    "Xids"
   ]
  },
  {
   "cell_type": "code",
   "execution_count": 18,
   "id": "165dec43",
   "metadata": {
    "execution": {
     "iopub.execute_input": "2021-10-19T11:45:36.780785Z",
     "iopub.status.busy": "2021-10-19T11:45:36.779940Z",
     "iopub.status.idle": "2021-10-19T11:45:36.783539Z",
     "shell.execute_reply": "2021-10-19T11:45:36.784082Z",
     "shell.execute_reply.started": "2021-10-19T11:42:58.321847Z"
    },
    "papermill": {
     "duration": 0.065441,
     "end_time": "2021-10-19T11:45:36.784233",
     "exception": false,
     "start_time": "2021-10-19T11:45:36.718792",
     "status": "completed"
    },
    "tags": []
   },
   "outputs": [
    {
     "data": {
      "text/plain": [
       "array([[1., 1., 1., ..., 0., 0., 0.],\n",
       "       [1., 1., 1., ..., 0., 0., 0.],\n",
       "       [1., 1., 1., ..., 0., 0., 0.],\n",
       "       ...,\n",
       "       [1., 1., 1., ..., 0., 0., 0.],\n",
       "       [1., 1., 1., ..., 0., 0., 0.],\n",
       "       [1., 1., 1., ..., 0., 0., 0.]])"
      ]
     },
     "execution_count": 18,
     "metadata": {},
     "output_type": "execute_result"
    }
   ],
   "source": [
    "Xmask"
   ]
  },
  {
   "cell_type": "code",
   "execution_count": 19,
   "id": "fe7b7aee",
   "metadata": {
    "execution": {
     "iopub.execute_input": "2021-10-19T11:45:36.897076Z",
     "iopub.status.busy": "2021-10-19T11:45:36.896087Z",
     "iopub.status.idle": "2021-10-19T11:45:36.900029Z",
     "shell.execute_reply": "2021-10-19T11:45:36.900505Z",
     "shell.execute_reply.started": "2021-10-19T11:42:58.334490Z"
    },
    "papermill": {
     "duration": 0.06409,
     "end_time": "2021-10-19T11:45:36.900696",
     "exception": false,
     "start_time": "2021-10-19T11:45:36.836606",
     "status": "completed"
    },
    "tags": []
   },
   "outputs": [
    {
     "data": {
      "text/plain": [
       "<bound method Series.unique of 0         1\n",
       "63        4\n",
       "81        1\n",
       "116       3\n",
       "156       1\n",
       "         ..\n",
       "155984    2\n",
       "155997    2\n",
       "156021    1\n",
       "156031    1\n",
       "156039    2\n",
       "Name: Sentiment, Length: 8529, dtype: int64>"
      ]
     },
     "execution_count": 19,
     "metadata": {},
     "output_type": "execute_result"
    }
   ],
   "source": [
    "df['Sentiment'].unique   #last column of dataset"
   ]
  },
  {
   "cell_type": "code",
   "execution_count": 20,
   "id": "27821f50",
   "metadata": {
    "execution": {
     "iopub.execute_input": "2021-10-19T11:45:37.014900Z",
     "iopub.status.busy": "2021-10-19T11:45:37.014023Z",
     "iopub.status.idle": "2021-10-19T11:45:37.017521Z",
     "shell.execute_reply": "2021-10-19T11:45:37.018043Z",
     "shell.execute_reply.started": "2021-10-19T11:42:58.345156Z"
    },
    "papermill": {
     "duration": 0.062502,
     "end_time": "2021-10-19T11:45:37.018182",
     "exception": false,
     "start_time": "2021-10-19T11:45:36.955680",
     "status": "completed"
    },
    "tags": []
   },
   "outputs": [
    {
     "data": {
      "text/plain": [
       "8529"
      ]
     },
     "execution_count": 20,
     "metadata": {},
     "output_type": "execute_result"
    }
   ],
   "source": [
    "arr= df['Sentiment'].values  #use one hot into array from word\n",
    "arr.size"
   ]
  },
  {
   "cell_type": "code",
   "execution_count": 21,
   "id": "f95487cb",
   "metadata": {
    "execution": {
     "iopub.execute_input": "2021-10-19T11:45:37.130197Z",
     "iopub.status.busy": "2021-10-19T11:45:37.129422Z",
     "iopub.status.idle": "2021-10-19T11:45:37.133278Z",
     "shell.execute_reply": "2021-10-19T11:45:37.132756Z",
     "shell.execute_reply.started": "2021-10-19T11:42:58.354194Z"
    },
    "papermill": {
     "duration": 0.062055,
     "end_time": "2021-10-19T11:45:37.133476",
     "exception": false,
     "start_time": "2021-10-19T11:45:37.071421",
     "status": "completed"
    },
    "tags": []
   },
   "outputs": [],
   "source": [
    "labels= np.zeros((arr.size, arr.max()+1))  #maximum values in the array (here is 4 see above) but 1 means 5 column we add"
   ]
  },
  {
   "cell_type": "code",
   "execution_count": 22,
   "id": "ef59e2ed",
   "metadata": {
    "execution": {
     "iopub.execute_input": "2021-10-19T11:45:37.245961Z",
     "iopub.status.busy": "2021-10-19T11:45:37.243500Z",
     "iopub.status.idle": "2021-10-19T11:45:37.249956Z",
     "shell.execute_reply": "2021-10-19T11:45:37.250783Z",
     "shell.execute_reply.started": "2021-10-19T11:42:58.366784Z"
    },
    "papermill": {
     "duration": 0.064182,
     "end_time": "2021-10-19T11:45:37.250959",
     "exception": false,
     "start_time": "2021-10-19T11:45:37.186777",
     "status": "completed"
    },
    "tags": []
   },
   "outputs": [
    {
     "data": {
      "text/plain": [
       "(8529, 5)"
      ]
     },
     "execution_count": 22,
     "metadata": {},
     "output_type": "execute_result"
    }
   ],
   "source": [
    "labels.shape"
   ]
  },
  {
   "cell_type": "code",
   "execution_count": 23,
   "id": "71e00cd6",
   "metadata": {
    "execution": {
     "iopub.execute_input": "2021-10-19T11:45:37.369496Z",
     "iopub.status.busy": "2021-10-19T11:45:37.368511Z",
     "iopub.status.idle": "2021-10-19T11:45:37.372007Z",
     "shell.execute_reply": "2021-10-19T11:45:37.372665Z",
     "shell.execute_reply.started": "2021-10-19T11:42:58.377786Z"
    },
    "papermill": {
     "duration": 0.067346,
     "end_time": "2021-10-19T11:45:37.372819",
     "exception": false,
     "start_time": "2021-10-19T11:45:37.305473",
     "status": "completed"
    },
    "tags": []
   },
   "outputs": [
    {
     "data": {
      "text/plain": [
       "array([[0., 0., 0., 0., 0.],\n",
       "       [0., 0., 0., 0., 0.],\n",
       "       [0., 0., 0., 0., 0.],\n",
       "       ...,\n",
       "       [0., 0., 0., 0., 0.],\n",
       "       [0., 0., 0., 0., 0.],\n",
       "       [0., 0., 0., 0., 0.]])"
      ]
     },
     "execution_count": 23,
     "metadata": {},
     "output_type": "execute_result"
    }
   ],
   "source": [
    "labels"
   ]
  },
  {
   "cell_type": "code",
   "execution_count": 24,
   "id": "c7c148cd",
   "metadata": {
    "execution": {
     "iopub.execute_input": "2021-10-19T11:45:37.490935Z",
     "iopub.status.busy": "2021-10-19T11:45:37.489910Z",
     "iopub.status.idle": "2021-10-19T11:45:37.496751Z",
     "shell.execute_reply": "2021-10-19T11:45:37.497408Z",
     "shell.execute_reply.started": "2021-10-19T11:42:58.388992Z"
    },
    "papermill": {
     "duration": 0.067655,
     "end_time": "2021-10-19T11:45:37.497655",
     "exception": false,
     "start_time": "2021-10-19T11:45:37.430000",
     "status": "completed"
    },
    "tags": []
   },
   "outputs": [
    {
     "data": {
      "text/plain": [
       "array([[0., 1., 0., 0., 0.],\n",
       "       [0., 0., 0., 0., 1.],\n",
       "       [0., 1., 0., 0., 0.],\n",
       "       ...,\n",
       "       [0., 1., 0., 0., 0.],\n",
       "       [0., 1., 0., 0., 0.],\n",
       "       [0., 0., 1., 0., 0.]])"
      ]
     },
     "execution_count": 24,
     "metadata": {},
     "output_type": "execute_result"
    }
   ],
   "source": [
    "#like zero array we want to add 1 for this 0 indices\n",
    "labels[np.arange(arr.size), arr]=1  #add 1 basically define the sentiment(replace 4,3,2,1 index with 1) which is on hot encoding   \n",
    "labels"
   ]
  },
  {
   "cell_type": "code",
   "execution_count": 25,
   "id": "57502d69",
   "metadata": {
    "execution": {
     "iopub.execute_input": "2021-10-19T11:45:37.623095Z",
     "iopub.status.busy": "2021-10-19T11:45:37.621858Z",
     "iopub.status.idle": "2021-10-19T11:45:37.630042Z",
     "shell.execute_reply": "2021-10-19T11:45:37.630544Z",
     "shell.execute_reply.started": "2021-10-19T11:42:58.399304Z"
    },
    "papermill": {
     "duration": 0.076518,
     "end_time": "2021-10-19T11:45:37.630744",
     "exception": false,
     "start_time": "2021-10-19T11:45:37.554226",
     "status": "completed"
    },
    "tags": []
   },
   "outputs": [],
   "source": [
    "# <!-- save for letter used -->\n",
    "with open('xids.npy', 'wb') as f :\n",
    "    np.save(f, Xids)\n",
    "with open('xmask.npy', 'wb') as f :\n",
    "    np.save(f, Xmask)\n",
    "with open('labels.npy', 'wb') as f :\n",
    "    np.save(f, labels)"
   ]
  },
  {
   "cell_type": "code",
   "execution_count": 26,
   "id": "a837c19d",
   "metadata": {
    "execution": {
     "iopub.execute_input": "2021-10-19T11:45:37.748872Z",
     "iopub.status.busy": "2021-10-19T11:45:37.747763Z",
     "iopub.status.idle": "2021-10-19T11:45:37.750261Z",
     "shell.execute_reply": "2021-10-19T11:45:37.750870Z",
     "shell.execute_reply.started": "2021-10-19T11:42:58.415794Z"
    },
    "papermill": {
     "duration": 0.064317,
     "end_time": "2021-10-19T11:45:37.751022",
     "exception": false,
     "start_time": "2021-10-19T11:45:37.686705",
     "status": "completed"
    },
    "tags": []
   },
   "outputs": [],
   "source": [
    "del df, Xids, Xmask, labels    #empty the memory space"
   ]
  },
  {
   "cell_type": "code",
   "execution_count": 27,
   "id": "e96092e6",
   "metadata": {
    "execution": {
     "iopub.execute_input": "2021-10-19T11:45:37.867900Z",
     "iopub.status.busy": "2021-10-19T11:45:37.866684Z",
     "iopub.status.idle": "2021-10-19T11:45:37.868894Z",
     "shell.execute_reply": "2021-10-19T11:45:37.869571Z",
     "shell.execute_reply.started": "2021-10-19T11:42:58.422004Z"
    },
    "papermill": {
     "duration": 0.061502,
     "end_time": "2021-10-19T11:45:37.869819",
     "exception": false,
     "start_time": "2021-10-19T11:45:37.808317",
     "status": "completed"
    },
    "tags": []
   },
   "outputs": [],
   "source": [
    "# Xids"
   ]
  },
  {
   "cell_type": "code",
   "execution_count": 28,
   "id": "f4549ca1",
   "metadata": {
    "execution": {
     "iopub.execute_input": "2021-10-19T11:45:37.990801Z",
     "iopub.status.busy": "2021-10-19T11:45:37.989522Z",
     "iopub.status.idle": "2021-10-19T11:45:37.999980Z",
     "shell.execute_reply": "2021-10-19T11:45:37.999294Z",
     "shell.execute_reply.started": "2021-10-19T11:42:58.435941Z"
    },
    "papermill": {
     "duration": 0.073209,
     "end_time": "2021-10-19T11:45:38.000120",
     "exception": false,
     "start_time": "2021-10-19T11:45:37.926911",
     "status": "completed"
    },
    "tags": []
   },
   "outputs": [],
   "source": [
    "# now open this in backe-end\n",
    "with open('xids.npy', 'rb') as fp :\n",
    "    Xids=np.load(fp)\n",
    "with open('xmask.npy', 'rb') as fp :\n",
    "    Xmask=np.load(fp)\n",
    "with open('labels.npy', 'rb') as fp :\n",
    "    labels=np.load(fp)"
   ]
  },
  {
   "cell_type": "code",
   "execution_count": 29,
   "id": "87079e1e",
   "metadata": {
    "execution": {
     "iopub.execute_input": "2021-10-19T11:45:38.124725Z",
     "iopub.status.busy": "2021-10-19T11:45:38.123458Z",
     "iopub.status.idle": "2021-10-19T11:45:38.129575Z",
     "shell.execute_reply": "2021-10-19T11:45:38.128920Z",
     "shell.execute_reply.started": "2021-10-19T11:42:58.449818Z"
    },
    "papermill": {
     "duration": 0.073254,
     "end_time": "2021-10-19T11:45:38.129744",
     "exception": false,
     "start_time": "2021-10-19T11:45:38.056490",
     "status": "completed"
    },
    "tags": []
   },
   "outputs": [
    {
     "data": {
      "text/plain": [
       "array([[ 101.,  138., 1326., ...,    0.,    0.,    0.],\n",
       "       [ 101., 1188., 3589., ...,    0.,    0.,    0.],\n",
       "       [ 101., 2431., 3899., ...,    0.,    0.,    0.],\n",
       "       ...,\n",
       "       [ 101.,  118.,  149., ...,    0.,    0.,    0.],\n",
       "       [ 101., 1109., 2523., ...,    0.,    0.,    0.],\n",
       "       [ 101., 1109., 1273., ...,    0.,    0.,    0.]])"
      ]
     },
     "execution_count": 29,
     "metadata": {},
     "output_type": "execute_result"
    }
   ],
   "source": [
    "Xids"
   ]
  },
  {
   "cell_type": "code",
   "execution_count": 30,
   "id": "d01bd679",
   "metadata": {
    "execution": {
     "iopub.execute_input": "2021-10-19T11:45:38.261792Z",
     "iopub.status.busy": "2021-10-19T11:45:38.260705Z",
     "iopub.status.idle": "2021-10-19T11:45:38.266994Z",
     "shell.execute_reply": "2021-10-19T11:45:38.268050Z",
     "shell.execute_reply.started": "2021-10-19T11:42:58.459083Z"
    },
    "papermill": {
     "duration": 0.082371,
     "end_time": "2021-10-19T11:45:38.268369",
     "exception": false,
     "start_time": "2021-10-19T11:45:38.185998",
     "status": "completed"
    },
    "tags": []
   },
   "outputs": [
    {
     "data": {
      "text/plain": [
       "[PhysicalDevice(name='/physical_device:GPU:0', device_type='GPU')]"
      ]
     },
     "execution_count": 30,
     "metadata": {},
     "output_type": "execute_result"
    }
   ],
   "source": [
    "#put all the data onto tensorflow because its make things lot easiar\n",
    "#restructure data, shuffle, batch, just few line code\n",
    "import tensorflow as tf\n",
    "tf.config.experimental.list_physical_devices('GPU')"
   ]
  },
  {
   "cell_type": "code",
   "execution_count": 31,
   "id": "699806e1",
   "metadata": {
    "execution": {
     "iopub.execute_input": "2021-10-19T11:45:38.487334Z",
     "iopub.status.busy": "2021-10-19T11:45:38.485486Z",
     "iopub.status.idle": "2021-10-19T11:45:38.488232Z",
     "shell.execute_reply": "2021-10-19T11:45:38.486407Z",
     "shell.execute_reply.started": "2021-10-19T11:42:58.469092Z"
    },
    "papermill": {
     "duration": 0.107629,
     "end_time": "2021-10-19T11:45:38.488430",
     "exception": false,
     "start_time": "2021-10-19T11:45:38.380801",
     "status": "completed"
    },
    "tags": []
   },
   "outputs": [],
   "source": [
    "#restructure the data\n",
    "#remember tensorflow expect input data always a tuple\n",
    "#but here we using bert so tuple look like dictonary"
   ]
  },
  {
   "cell_type": "code",
   "execution_count": 32,
   "id": "0f008341",
   "metadata": {
    "execution": {
     "iopub.execute_input": "2021-10-19T11:45:38.704499Z",
     "iopub.status.busy": "2021-10-19T11:45:38.703181Z",
     "iopub.status.idle": "2021-10-19T11:45:38.726679Z",
     "shell.execute_reply": "2021-10-19T11:45:38.724827Z",
     "shell.execute_reply.started": "2021-10-19T11:42:58.476176Z"
    },
    "papermill": {
     "duration": 0.141736,
     "end_time": "2021-10-19T11:45:38.726930",
     "exception": false,
     "start_time": "2021-10-19T11:45:38.585194",
     "status": "completed"
    },
    "tags": []
   },
   "outputs": [],
   "source": [
    "#restructure the data\n",
    "#remember tensorflow expect input data always a tuple\n",
    "#but here we using bert so tuple look like dictonary not other dictionary but ids and mask\n",
    "dataset= tf.data.Dataset.from_tensor_slices((Xids, Xmask, labels))"
   ]
  },
  {
   "cell_type": "code",
   "execution_count": 33,
   "id": "231054a7",
   "metadata": {
    "execution": {
     "iopub.execute_input": "2021-10-19T11:45:38.948826Z",
     "iopub.status.busy": "2021-10-19T11:45:38.947714Z",
     "iopub.status.idle": "2021-10-19T11:45:39.005778Z",
     "shell.execute_reply": "2021-10-19T11:45:39.007074Z",
     "shell.execute_reply.started": "2021-10-19T11:42:58.503649Z"
    },
    "papermill": {
     "duration": 0.175313,
     "end_time": "2021-10-19T11:45:39.007352",
     "exception": false,
     "start_time": "2021-10-19T11:45:38.832039",
     "status": "completed"
    },
    "tags": []
   },
   "outputs": [
    {
     "name": "stdout",
     "output_type": "stream",
     "text": [
      "(<tf.Tensor: shape=(50,), dtype=float64, numpy=\n",
      "array([  101.,   138.,  1326.,  1104., 13936., 25265., 16913., 15107.,\n",
      "        1103.,  8050.,  2553.,  1115.,  1184.,  1110.,  1363.,  1111.,\n",
      "        1103., 20398.,  1110.,  1145.,  1363.,  1111.,  1103.,   176.,\n",
      "        9900.,   117.,  1199.,  1104.,  1134.,  5411.,  1821., 14225.,\n",
      "        1133.,  3839.,  1104.,  1134.,  7919.,  1106.,  1277.,  1104.,\n",
      "         170.,  1642.,   119.,   102.,     0.,     0.,     0.,     0.,\n",
      "           0.,     0.])>, <tf.Tensor: shape=(50,), dtype=float64, numpy=\n",
      "array([1., 1., 1., 1., 1., 1., 1., 1., 1., 1., 1., 1., 1., 1., 1., 1., 1.,\n",
      "       1., 1., 1., 1., 1., 1., 1., 1., 1., 1., 1., 1., 1., 1., 1., 1., 1.,\n",
      "       1., 1., 1., 1., 1., 1., 1., 1., 1., 1., 0., 0., 0., 0., 0., 0.])>, <tf.Tensor: shape=(5,), dtype=float64, numpy=array([0., 1., 0., 0., 0.])>)\n"
     ]
    }
   ],
   "source": [
    "# create a generatoe where all our data in tuple formate conatains (,1 x id, 1 maskid  and 1 labels id  )\n",
    "for i in dataset.take(1):  #view on of those\n",
    "    print(i)"
   ]
  },
  {
   "cell_type": "markdown",
   "id": "45304e9a",
   "metadata": {
    "papermill": {
     "duration": 0.093158,
     "end_time": "2021-10-19T11:45:39.194390",
     "exception": false,
     "start_time": "2021-10-19T11:45:39.101232",
     "status": "completed"
    },
    "tags": []
   },
   "source": [
    "Previously discuss that tensorflow expect our output as tuple formate so `index[0]` have to represent as input and `index[1]` should be represent as labels but here have three types data so how could we process them?"
   ]
  },
  {
   "cell_type": "code",
   "execution_count": 34,
   "id": "db6b9676",
   "metadata": {
    "execution": {
     "iopub.execute_input": "2021-10-19T11:45:39.393364Z",
     "iopub.status.busy": "2021-10-19T11:45:39.391740Z",
     "iopub.status.idle": "2021-10-19T11:45:39.394373Z",
     "shell.execute_reply": "2021-10-19T11:45:39.392514Z",
     "shell.execute_reply.started": "2021-10-19T11:42:58.556308Z"
    },
    "papermill": {
     "duration": 0.105377,
     "end_time": "2021-10-19T11:45:39.394586",
     "exception": false,
     "start_time": "2021-10-19T11:45:39.289209",
     "status": "completed"
    },
    "tags": []
   },
   "outputs": [],
   "source": [
    "# to create this structure we need a mapping function\n",
    "def map_function(input_ids, masks, labels):\n",
    "    return { 'input_ids': input_ids, 'attention_mask': masks}, labels"
   ]
  },
  {
   "cell_type": "code",
   "execution_count": 35,
   "id": "604d593f",
   "metadata": {
    "execution": {
     "iopub.execute_input": "2021-10-19T11:45:39.596416Z",
     "iopub.status.busy": "2021-10-19T11:45:39.595292Z",
     "iopub.status.idle": "2021-10-19T11:45:39.659638Z",
     "shell.execute_reply": "2021-10-19T11:45:39.658629Z",
     "shell.execute_reply.started": "2021-10-19T11:42:58.562528Z"
    },
    "papermill": {
     "duration": 0.166606,
     "end_time": "2021-10-19T11:45:39.659788",
     "exception": false,
     "start_time": "2021-10-19T11:45:39.493182",
     "status": "completed"
    },
    "tags": []
   },
   "outputs": [],
   "source": [
    "dataset = dataset.map(map_function)"
   ]
  },
  {
   "cell_type": "code",
   "execution_count": 36,
   "id": "0e85d369",
   "metadata": {
    "execution": {
     "iopub.execute_input": "2021-10-19T11:45:39.782958Z",
     "iopub.status.busy": "2021-10-19T11:45:39.781745Z",
     "iopub.status.idle": "2021-10-19T11:45:39.836245Z",
     "shell.execute_reply": "2021-10-19T11:45:39.834963Z",
     "shell.execute_reply.started": "2021-10-19T11:42:58.622894Z"
    },
    "papermill": {
     "duration": 0.118402,
     "end_time": "2021-10-19T11:45:39.836535",
     "exception": false,
     "start_time": "2021-10-19T11:45:39.718133",
     "status": "completed"
    },
    "tags": []
   },
   "outputs": [
    {
     "name": "stdout",
     "output_type": "stream",
     "text": [
      "({'input_ids': <tf.Tensor: shape=(50,), dtype=float64, numpy=\n",
      "array([  101.,   138.,  1326.,  1104., 13936., 25265., 16913., 15107.,\n",
      "        1103.,  8050.,  2553.,  1115.,  1184.,  1110.,  1363.,  1111.,\n",
      "        1103., 20398.,  1110.,  1145.,  1363.,  1111.,  1103.,   176.,\n",
      "        9900.,   117.,  1199.,  1104.,  1134.,  5411.,  1821., 14225.,\n",
      "        1133.,  3839.,  1104.,  1134.,  7919.,  1106.,  1277.,  1104.,\n",
      "         170.,  1642.,   119.,   102.,     0.,     0.,     0.,     0.,\n",
      "           0.,     0.])>, 'attention_mask': <tf.Tensor: shape=(50,), dtype=float64, numpy=\n",
      "array([1., 1., 1., 1., 1., 1., 1., 1., 1., 1., 1., 1., 1., 1., 1., 1., 1.,\n",
      "       1., 1., 1., 1., 1., 1., 1., 1., 1., 1., 1., 1., 1., 1., 1., 1., 1.,\n",
      "       1., 1., 1., 1., 1., 1., 1., 1., 1., 1., 0., 0., 0., 0., 0., 0.])>}, <tf.Tensor: shape=(5,), dtype=float64, numpy=array([0., 1., 0., 0., 0.])>)\n"
     ]
    },
    {
     "name": "stderr",
     "output_type": "stream",
     "text": [
      "2021-10-19 11:45:39.797724: I tensorflow/compiler/mlir/mlir_graph_optimization_pass.cc:185] None of the MLIR Optimization Passes are enabled (registered 2)\n"
     ]
    }
   ],
   "source": [
    "for i in dataset.take(1):  #view on of those\n",
    "    print(i)"
   ]
  },
  {
   "cell_type": "code",
   "execution_count": 37,
   "id": "499477fc",
   "metadata": {
    "execution": {
     "iopub.execute_input": "2021-10-19T11:45:39.960323Z",
     "iopub.status.busy": "2021-10-19T11:45:39.959128Z",
     "iopub.status.idle": "2021-10-19T11:45:39.965843Z",
     "shell.execute_reply": "2021-10-19T11:45:39.965251Z",
     "shell.execute_reply.started": "2021-10-19T11:42:58.667292Z"
    },
    "papermill": {
     "duration": 0.070386,
     "end_time": "2021-10-19T11:45:39.965980",
     "exception": false,
     "start_time": "2021-10-19T11:45:39.895594",
     "status": "completed"
    },
    "tags": []
   },
   "outputs": [],
   "source": [
    "dataset= dataset.shuffle(100000).batch(32)  #shuffle and batch dataset"
   ]
  },
  {
   "cell_type": "code",
   "execution_count": 38,
   "id": "eda4042d",
   "metadata": {
    "execution": {
     "iopub.execute_input": "2021-10-19T11:45:40.089601Z",
     "iopub.status.busy": "2021-10-19T11:45:40.088218Z",
     "iopub.status.idle": "2021-10-19T11:45:40.474666Z",
     "shell.execute_reply": "2021-10-19T11:45:40.473993Z",
     "shell.execute_reply.started": "2021-10-19T11:42:58.678316Z"
    },
    "papermill": {
     "duration": 0.449668,
     "end_time": "2021-10-19T11:45:40.474857",
     "exception": false,
     "start_time": "2021-10-19T11:45:40.025189",
     "status": "completed"
    },
    "tags": []
   },
   "outputs": [
    {
     "data": {
      "text/plain": [
       "267"
      ]
     },
     "execution_count": 38,
     "metadata": {},
     "output_type": "execute_result"
    }
   ],
   "source": [
    "#split into training and validation\n",
    "DS_LEN = len(list(dataset))  #dont take len directly so by using list we have count that\n",
    "DS_LEN  #number of batches"
   ]
  },
  {
   "cell_type": "code",
   "execution_count": 39,
   "id": "f144822f",
   "metadata": {
    "execution": {
     "iopub.execute_input": "2021-10-19T11:45:40.597630Z",
     "iopub.status.busy": "2021-10-19T11:45:40.596491Z",
     "iopub.status.idle": "2021-10-19T11:45:40.604727Z",
     "shell.execute_reply": "2021-10-19T11:45:40.604018Z",
     "shell.execute_reply.started": "2021-10-19T11:42:58.973176Z"
    },
    "papermill": {
     "duration": 0.069734,
     "end_time": "2021-10-19T11:45:40.604865",
     "exception": false,
     "start_time": "2021-10-19T11:45:40.535131",
     "status": "completed"
    },
    "tags": []
   },
   "outputs": [],
   "source": [
    "# if we take 9 for training and 1 for testing \n",
    "SPLIT =.9\n",
    "\n",
    "train =dataset.take(round(DS_LEN*SPLIT))\n",
    "val =dataset.skip(round(DS_LEN*SPLIT))\n",
    "del(dataset)"
   ]
  },
  {
   "cell_type": "markdown",
   "id": "8725ee5f",
   "metadata": {
    "papermill": {
     "duration": 0.05798,
     "end_time": "2021-10-19T11:45:40.723161",
     "exception": false,
     "start_time": "2021-10-19T11:45:40.665181",
     "status": "completed"
    },
    "tags": []
   },
   "source": [
    "Data is Ready so Now time to building **model architecture**"
   ]
  },
  {
   "cell_type": "code",
   "execution_count": 40,
   "id": "1bfb5d45",
   "metadata": {
    "execution": {
     "iopub.execute_input": "2021-10-19T11:45:40.846210Z",
     "iopub.status.busy": "2021-10-19T11:45:40.845274Z",
     "iopub.status.idle": "2021-10-19T11:45:41.972417Z",
     "shell.execute_reply": "2021-10-19T11:45:41.971751Z",
     "shell.execute_reply.started": "2021-10-19T11:42:58.981342Z"
    },
    "papermill": {
     "duration": 1.19002,
     "end_time": "2021-10-19T11:45:41.972604",
     "exception": false,
     "start_time": "2021-10-19T11:45:40.782584",
     "status": "completed"
    },
    "tags": []
   },
   "outputs": [],
   "source": [
    "from transformers import TFAutoModel"
   ]
  },
  {
   "cell_type": "code",
   "execution_count": 41,
   "id": "98a8479e",
   "metadata": {
    "execution": {
     "iopub.execute_input": "2021-10-19T11:45:42.102412Z",
     "iopub.status.busy": "2021-10-19T11:45:42.101727Z",
     "iopub.status.idle": "2021-10-19T11:46:12.057339Z",
     "shell.execute_reply": "2021-10-19T11:46:12.058615Z",
     "shell.execute_reply.started": "2021-10-19T11:43:00.197921Z"
    },
    "papermill": {
     "duration": 30.024702,
     "end_time": "2021-10-19T11:46:12.058870",
     "exception": false,
     "start_time": "2021-10-19T11:45:42.034168",
     "status": "completed"
    },
    "tags": []
   },
   "outputs": [
    {
     "data": {
      "application/vnd.jupyter.widget-view+json": {
       "model_id": "9a88ccb94eb8460593c3cbce6b004ac6",
       "version_major": 2,
       "version_minor": 0
      },
      "text/plain": [
       "Downloading:   0%|          | 0.00/527M [00:00<?, ?B/s]"
      ]
     },
     "metadata": {},
     "output_type": "display_data"
    },
    {
     "name": "stderr",
     "output_type": "stream",
     "text": [
      "Some layers from the model checkpoint at bert-base-cased were not used when initializing TFBertModel: ['mlm___cls', 'nsp___cls']\n",
      "- This IS expected if you are initializing TFBertModel from the checkpoint of a model trained on another task or with another architecture (e.g. initializing a BertForSequenceClassification model from a BertForPreTraining model).\n",
      "- This IS NOT expected if you are initializing TFBertModel from the checkpoint of a model that you expect to be exactly identical (initializing a BertForSequenceClassification model from a BertForSequenceClassification model).\n",
      "All the layers of TFBertModel were initialized from the model checkpoint at bert-base-cased.\n",
      "If your task is similar to the task the model of the checkpoint was trained on, you can already use TFBertModel for predictions without further training.\n"
     ]
    }
   ],
   "source": [
    "bert = TFAutoModel.from_pretrained('bert-base-cased')  #same as before\n",
    "# imported bert \n",
    "#now we need to buld a network around bert"
   ]
  },
  {
   "cell_type": "code",
   "execution_count": 42,
   "id": "1ca51734",
   "metadata": {
    "execution": {
     "iopub.execute_input": "2021-10-19T11:46:12.313909Z",
     "iopub.status.busy": "2021-10-19T11:46:12.311429Z",
     "iopub.status.idle": "2021-10-19T11:46:19.972090Z",
     "shell.execute_reply": "2021-10-19T11:46:19.971249Z",
     "shell.execute_reply.started": "2021-10-19T11:43:16.411167Z"
    },
    "papermill": {
     "duration": 7.799053,
     "end_time": "2021-10-19T11:46:19.972247",
     "exception": false,
     "start_time": "2021-10-19T11:46:12.173194",
     "status": "completed"
    },
    "tags": []
   },
   "outputs": [],
   "source": [
    "#define the input shape and name\n",
    "input_ids= tf.keras.layers.Input(shape=(SEQ_LEN),name='input_ids', dtype='int32')  #nam same as before used to create disctionary\n",
    "mask= tf.keras.layers.Input(shape=(SEQ_LEN),name='attention_mask', dtype='int32')\n",
    "\n",
    "embeddings=bert(input_ids, attention_mask=mask)[0]  #pull those into embedding  #take first tensors\n",
    "\n",
    "#bert will return two tensor two us\n",
    "#one of those is last hidden_state what we are interested in that is a 3d tensors which provide all the ingormation \n",
    "#second tensor we are going to ignore called puller output which run through feed forward or linear activation return a 2d tensors used for\n",
    "#...classification we will create ourselv so not need it"
   ]
  },
  {
   "cell_type": "code",
   "execution_count": 43,
   "id": "18f8b9d8",
   "metadata": {
    "execution": {
     "iopub.execute_input": "2021-10-19T11:46:20.100587Z",
     "iopub.status.busy": "2021-10-19T11:46:20.099367Z",
     "iopub.status.idle": "2021-10-19T11:46:20.161535Z",
     "shell.execute_reply": "2021-10-19T11:46:20.162069Z",
     "shell.execute_reply.started": "2021-10-19T11:43:22.512863Z"
    },
    "papermill": {
     "duration": 0.130471,
     "end_time": "2021-10-19T11:46:20.162253",
     "exception": false,
     "start_time": "2021-10-19T11:46:20.031782",
     "status": "completed"
    },
    "tags": []
   },
   "outputs": [],
   "source": [
    "# Here we can add LSTM, convoltion, pooling or anything for experiment.\n",
    "#for keep simple we are used global maxpooling layer which convert output from 3d to 2d\n",
    "# you can ignore this by previosly doing 0 by giving 1\n",
    "X = tf.keras.layers.GlobalMaxPool1D()(embeddings)\n",
    "#now normalied our output here before train the model\n",
    "X = tf.keras.layers.BatchNormalization()(X)\n",
    "# now go through with dense layer wich classification bert embedding\n",
    "X = tf.keras.layers.Dense(128, activation='relu')(X)  \n",
    "X = tf.keras.layers.Dropout(0.1)(X)  # prevent overfiting\n",
    "X =  tf.keras.layers.Dense(32, activation='relu')(X) #another dense layers\n",
    "\n",
    "#finally lets create a output layers with softmax\n",
    "y = tf.keras.layers.Dense(5,activation='softmax', name='output')(X)"
   ]
  },
  {
   "cell_type": "code",
   "execution_count": 44,
   "id": "23379216",
   "metadata": {
    "execution": {
     "iopub.execute_input": "2021-10-19T11:46:20.292256Z",
     "iopub.status.busy": "2021-10-19T11:46:20.291099Z",
     "iopub.status.idle": "2021-10-19T11:46:20.298653Z",
     "shell.execute_reply": "2021-10-19T11:46:20.298000Z",
     "shell.execute_reply.started": "2021-10-19T11:43:22.562783Z"
    },
    "papermill": {
     "duration": 0.075672,
     "end_time": "2021-10-19T11:46:20.298791",
     "exception": false,
     "start_time": "2021-10-19T11:46:20.223119",
     "status": "completed"
    },
    "tags": []
   },
   "outputs": [],
   "source": [
    "# now tell tensorflow which is our input and output layer\n",
    "model =tf.keras.Model(inputs= [input_ids, mask], outputs=y)"
   ]
  },
  {
   "cell_type": "code",
   "execution_count": 45,
   "id": "ee1e5ee7",
   "metadata": {
    "execution": {
     "iopub.execute_input": "2021-10-19T11:46:20.428025Z",
     "iopub.status.busy": "2021-10-19T11:46:20.426951Z",
     "iopub.status.idle": "2021-10-19T11:46:20.454462Z",
     "shell.execute_reply": "2021-10-19T11:46:20.454998Z",
     "shell.execute_reply.started": "2021-10-19T11:43:22.573275Z"
    },
    "papermill": {
     "duration": 0.095669,
     "end_time": "2021-10-19T11:46:20.455157",
     "exception": false,
     "start_time": "2021-10-19T11:46:20.359488",
     "status": "completed"
    },
    "tags": []
   },
   "outputs": [
    {
     "name": "stdout",
     "output_type": "stream",
     "text": [
      "Model: \"model\"\n",
      "__________________________________________________________________________________________________\n",
      "Layer (type)                    Output Shape         Param #     Connected to                     \n",
      "==================================================================================================\n",
      "input_ids (InputLayer)          [(None, 50)]         0                                            \n",
      "__________________________________________________________________________________________________\n",
      "attention_mask (InputLayer)     [(None, 50)]         0                                            \n",
      "__________________________________________________________________________________________________\n",
      "tf_bert_model (TFBertModel)     TFBaseModelOutputWit 108310272   input_ids[0][0]                  \n",
      "                                                                 attention_mask[0][0]             \n",
      "__________________________________________________________________________________________________\n",
      "global_max_pooling1d (GlobalMax (None, 768)          0           tf_bert_model[0][0]              \n",
      "__________________________________________________________________________________________________\n",
      "batch_normalization (BatchNorma (None, 768)          3072        global_max_pooling1d[0][0]       \n",
      "__________________________________________________________________________________________________\n",
      "dense (Dense)                   (None, 128)          98432       batch_normalization[0][0]        \n",
      "__________________________________________________________________________________________________\n",
      "dropout_37 (Dropout)            (None, 128)          0           dense[0][0]                      \n",
      "__________________________________________________________________________________________________\n",
      "dense_1 (Dense)                 (None, 32)           4128        dropout_37[0][0]                 \n",
      "__________________________________________________________________________________________________\n",
      "output (Dense)                  (None, 5)            165         dense_1[0][0]                    \n",
      "==================================================================================================\n",
      "Total params: 108,416,069\n",
      "Trainable params: 108,414,533\n",
      "Non-trainable params: 1,536\n",
      "__________________________________________________________________________________________________\n"
     ]
    }
   ],
   "source": [
    "#we have a  model now excute that\n",
    "model.summary()  #without_freze"
   ]
  },
  {
   "cell_type": "code",
   "execution_count": 46,
   "id": "1a7892f4",
   "metadata": {
    "execution": {
     "iopub.execute_input": "2021-10-19T11:46:20.586465Z",
     "iopub.status.busy": "2021-10-19T11:46:20.585327Z",
     "iopub.status.idle": "2021-10-19T11:46:20.595177Z",
     "shell.execute_reply": "2021-10-19T11:46:20.594378Z",
     "shell.execute_reply.started": "2021-10-19T11:43:22.602150Z"
    },
    "papermill": {
     "duration": 0.078946,
     "end_time": "2021-10-19T11:46:20.595361",
     "exception": false,
     "start_time": "2021-10-19T11:46:20.516415",
     "status": "completed"
    },
    "tags": []
   },
   "outputs": [],
   "source": [
    "#bert is a very big model i would not recomand to train it unlsess have specific reason\n",
    "#by freezing layers we can reduce parameter\n",
    "model.layers[2].trainable=False  #128 dense will be freze"
   ]
  },
  {
   "cell_type": "code",
   "execution_count": 47,
   "id": "f7d4baf6",
   "metadata": {
    "execution": {
     "iopub.execute_input": "2021-10-19T11:46:20.719090Z",
     "iopub.status.busy": "2021-10-19T11:46:20.718171Z",
     "iopub.status.idle": "2021-10-19T11:46:20.744663Z",
     "shell.execute_reply": "2021-10-19T11:46:20.743185Z",
     "shell.execute_reply.started": "2021-10-19T11:43:22.613711Z"
    },
    "papermill": {
     "duration": 0.090455,
     "end_time": "2021-10-19T11:46:20.744858",
     "exception": false,
     "start_time": "2021-10-19T11:46:20.654403",
     "status": "completed"
    },
    "tags": []
   },
   "outputs": [
    {
     "name": "stdout",
     "output_type": "stream",
     "text": [
      "Model: \"model\"\n",
      "__________________________________________________________________________________________________\n",
      "Layer (type)                    Output Shape         Param #     Connected to                     \n",
      "==================================================================================================\n",
      "input_ids (InputLayer)          [(None, 50)]         0                                            \n",
      "__________________________________________________________________________________________________\n",
      "attention_mask (InputLayer)     [(None, 50)]         0                                            \n",
      "__________________________________________________________________________________________________\n",
      "tf_bert_model (TFBertModel)     TFBaseModelOutputWit 108310272   input_ids[0][0]                  \n",
      "                                                                 attention_mask[0][0]             \n",
      "__________________________________________________________________________________________________\n",
      "global_max_pooling1d (GlobalMax (None, 768)          0           tf_bert_model[0][0]              \n",
      "__________________________________________________________________________________________________\n",
      "batch_normalization (BatchNorma (None, 768)          3072        global_max_pooling1d[0][0]       \n",
      "__________________________________________________________________________________________________\n",
      "dense (Dense)                   (None, 128)          98432       batch_normalization[0][0]        \n",
      "__________________________________________________________________________________________________\n",
      "dropout_37 (Dropout)            (None, 128)          0           dense[0][0]                      \n",
      "__________________________________________________________________________________________________\n",
      "dense_1 (Dense)                 (None, 32)           4128        dropout_37[0][0]                 \n",
      "__________________________________________________________________________________________________\n",
      "output (Dense)                  (None, 5)            165         dense_1[0][0]                    \n",
      "==================================================================================================\n",
      "Total params: 108,416,069\n",
      "Trainable params: 104,261\n",
      "Non-trainable params: 108,311,808\n",
      "__________________________________________________________________________________________________\n"
     ]
    }
   ],
   "source": [
    "model.summary()"
   ]
  },
  {
   "cell_type": "code",
   "execution_count": 48,
   "id": "8645a992",
   "metadata": {
    "execution": {
     "iopub.execute_input": "2021-10-19T11:46:20.875327Z",
     "iopub.status.busy": "2021-10-19T11:46:20.874194Z",
     "iopub.status.idle": "2021-10-19T11:46:20.891683Z",
     "shell.execute_reply": "2021-10-19T11:46:20.891076Z",
     "shell.execute_reply.started": "2021-10-19T11:43:22.641977Z"
    },
    "papermill": {
     "duration": 0.084536,
     "end_time": "2021-10-19T11:46:20.891805",
     "exception": false,
     "start_time": "2021-10-19T11:46:20.807269",
     "status": "completed"
    },
    "tags": []
   },
   "outputs": [],
   "source": [
    "optimizer = tf.keras.optimizers.Adam(0.01)\n",
    "loss = tf.keras.losses.CategoricalCrossentropy() #becasue we using on hot encodiing\n",
    "acc = tf.keras.metrics.CategoricalAccuracy('accuracy')  #same reason\n",
    "model.compile(optimizer=optimizer, loss=loss, metrics=[acc])"
   ]
  },
  {
   "cell_type": "markdown",
   "id": "3124a8f7",
   "metadata": {},
   "source": [
    "# Run Just One Epoch "
   ]
  },
  {
   "cell_type": "code",
   "execution_count": 49,
   "id": "cffacd97",
   "metadata": {
    "execution": {
     "iopub.execute_input": "2021-10-19T11:46:21.018316Z",
     "iopub.status.busy": "2021-10-19T11:46:21.017306Z",
     "iopub.status.idle": "2021-10-19T11:47:06.978750Z",
     "shell.execute_reply": "2021-10-19T11:47:06.978137Z",
     "shell.execute_reply.started": "2021-10-19T11:43:22.664396Z"
    },
    "papermill": {
     "duration": 46.027089,
     "end_time": "2021-10-19T11:47:06.978915",
     "exception": false,
     "start_time": "2021-10-19T11:46:20.951826",
     "status": "completed"
    },
    "tags": []
   },
   "outputs": [
    {
     "name": "stdout",
     "output_type": "stream",
     "text": [
      "240/240 [==============================] - 46s 126ms/step - loss: 1.4723 - accuracy: 0.3551 - val_loss: 1.3756 - val_accuracy: 0.4099\n"
     ]
    }
   ],
   "source": [
    "history = model.fit(\n",
    "    train,\n",
    "    validation_data = val,\n",
    "    epochs=1)"
   ]
  },
  {
   "cell_type": "markdown",
   "id": "f9c4e9e9",
   "metadata": {
    "papermill": {
     "duration": 0.138328,
     "end_time": "2021-10-19T11:47:07.262480",
     "exception": false,
     "start_time": "2021-10-19T11:47:07.124152",
     "status": "completed"
    },
    "tags": []
   },
   "source": [
    "Now practice with LSTM, COnvolution or more dense layers to increase the accuracy and play arround with it. "
   ]
  }
 ],
 "metadata": {
  "kernelspec": {
   "display_name": "Python 3 (ipykernel)",
   "language": "python",
   "name": "python3"
  },
  "language_info": {
   "codemirror_mode": {
    "name": "ipython",
    "version": 3
   },
   "file_extension": ".py",
   "mimetype": "text/x-python",
   "name": "python",
   "nbconvert_exporter": "python",
   "pygments_lexer": "ipython3",
   "version": "3.7.10"
  },
  "papermill": {
   "default_parameters": {},
   "duration": 128.843613,
   "end_time": "2021-10-19T11:47:10.672543",
   "environment_variables": {},
   "exception": null,
   "input_path": "__notebook__.ipynb",
   "output_path": "__notebook__.ipynb",
   "parameters": {},
   "start_time": "2021-10-19T11:45:01.828930",
   "version": "2.3.3"
  },
  "widgets": {
   "application/vnd.jupyter.widget-state+json": {
    "state": {
     "034817adc9c24151b9c5fdf218d012d7": {
      "model_module": "@jupyter-widgets/controls",
      "model_module_version": "1.5.0",
      "model_name": "FloatProgressModel",
      "state": {
       "_dom_classes": [],
       "_model_module": "@jupyter-widgets/controls",
       "_model_module_version": "1.5.0",
       "_model_name": "FloatProgressModel",
       "_view_count": null,
       "_view_module": "@jupyter-widgets/controls",
       "_view_module_version": "1.5.0",
       "_view_name": "ProgressView",
       "bar_style": "success",
       "description": "",
       "description_tooltip": null,
       "layout": "IPY_MODEL_d65bd7d0e6964ae89e1429f57d9136f2",
       "max": 526681800,
       "min": 0,
       "orientation": "horizontal",
       "style": "IPY_MODEL_9acb9611232a4a2c9b5d18c45cafb8dd",
       "value": 526681800
      }
     },
     "07e1099b4a0343f881a4025b2bedf30c": {
      "model_module": "@jupyter-widgets/base",
      "model_module_version": "1.2.0",
      "model_name": "LayoutModel",
      "state": {
       "_model_module": "@jupyter-widgets/base",
       "_model_module_version": "1.2.0",
       "_model_name": "LayoutModel",
       "_view_count": null,
       "_view_module": "@jupyter-widgets/base",
       "_view_module_version": "1.2.0",
       "_view_name": "LayoutView",
       "align_content": null,
       "align_items": null,
       "align_self": null,
       "border": null,
       "bottom": null,
       "display": null,
       "flex": null,
       "flex_flow": null,
       "grid_area": null,
       "grid_auto_columns": null,
       "grid_auto_flow": null,
       "grid_auto_rows": null,
       "grid_column": null,
       "grid_gap": null,
       "grid_row": null,
       "grid_template_areas": null,
       "grid_template_columns": null,
       "grid_template_rows": null,
       "height": null,
       "justify_content": null,
       "justify_items": null,
       "left": null,
       "margin": null,
       "max_height": null,
       "max_width": null,
       "min_height": null,
       "min_width": null,
       "object_fit": null,
       "object_position": null,
       "order": null,
       "overflow": null,
       "overflow_x": null,
       "overflow_y": null,
       "padding": null,
       "right": null,
       "top": null,
       "visibility": null,
       "width": null
      }
     },
     "14b3f521906a4a5f9e1371a8fd97006d": {
      "model_module": "@jupyter-widgets/controls",
      "model_module_version": "1.5.0",
      "model_name": "HTMLModel",
      "state": {
       "_dom_classes": [],
       "_model_module": "@jupyter-widgets/controls",
       "_model_module_version": "1.5.0",
       "_model_name": "HTMLModel",
       "_view_count": null,
       "_view_module": "@jupyter-widgets/controls",
       "_view_module_version": "1.5.0",
       "_view_name": "HTMLView",
       "description": "",
       "description_tooltip": null,
       "layout": "IPY_MODEL_4337ca445a884b47819b7032060b992b",
       "placeholder": "​",
       "style": "IPY_MODEL_833d575b8e724bc882aea28e4409b72e",
       "value": "Downloading: 100%"
      }
     },
     "16f613aeae754a2eaf1ed23fcfa52e63": {
      "model_module": "@jupyter-widgets/controls",
      "model_module_version": "1.5.0",
      "model_name": "ProgressStyleModel",
      "state": {
       "_model_module": "@jupyter-widgets/controls",
       "_model_module_version": "1.5.0",
       "_model_name": "ProgressStyleModel",
       "_view_count": null,
       "_view_module": "@jupyter-widgets/base",
       "_view_module_version": "1.2.0",
       "_view_name": "StyleView",
       "bar_color": null,
       "description_width": ""
      }
     },
     "174fe5c6a9284b77877752e3323a845d": {
      "model_module": "@jupyter-widgets/controls",
      "model_module_version": "1.5.0",
      "model_name": "DescriptionStyleModel",
      "state": {
       "_model_module": "@jupyter-widgets/controls",
       "_model_module_version": "1.5.0",
       "_model_name": "DescriptionStyleModel",
       "_view_count": null,
       "_view_module": "@jupyter-widgets/base",
       "_view_module_version": "1.2.0",
       "_view_name": "StyleView",
       "description_width": ""
      }
     },
     "1abd0ff46a1a469abd1c3ddc5ce63429": {
      "model_module": "@jupyter-widgets/controls",
      "model_module_version": "1.5.0",
      "model_name": "DescriptionStyleModel",
      "state": {
       "_model_module": "@jupyter-widgets/controls",
       "_model_module_version": "1.5.0",
       "_model_name": "DescriptionStyleModel",
       "_view_count": null,
       "_view_module": "@jupyter-widgets/base",
       "_view_module_version": "1.2.0",
       "_view_name": "StyleView",
       "description_width": ""
      }
     },
     "200b6886a5254463a7e1731b90706586": {
      "model_module": "@jupyter-widgets/controls",
      "model_module_version": "1.5.0",
      "model_name": "DescriptionStyleModel",
      "state": {
       "_model_module": "@jupyter-widgets/controls",
       "_model_module_version": "1.5.0",
       "_model_name": "DescriptionStyleModel",
       "_view_count": null,
       "_view_module": "@jupyter-widgets/base",
       "_view_module_version": "1.2.0",
       "_view_name": "StyleView",
       "description_width": ""
      }
     },
     "223b1b6562aa4b9b801c3d138239b8a0": {
      "model_module": "@jupyter-widgets/base",
      "model_module_version": "1.2.0",
      "model_name": "LayoutModel",
      "state": {
       "_model_module": "@jupyter-widgets/base",
       "_model_module_version": "1.2.0",
       "_model_name": "LayoutModel",
       "_view_count": null,
       "_view_module": "@jupyter-widgets/base",
       "_view_module_version": "1.2.0",
       "_view_name": "LayoutView",
       "align_content": null,
       "align_items": null,
       "align_self": null,
       "border": null,
       "bottom": null,
       "display": null,
       "flex": null,
       "flex_flow": null,
       "grid_area": null,
       "grid_auto_columns": null,
       "grid_auto_flow": null,
       "grid_auto_rows": null,
       "grid_column": null,
       "grid_gap": null,
       "grid_row": null,
       "grid_template_areas": null,
       "grid_template_columns": null,
       "grid_template_rows": null,
       "height": null,
       "justify_content": null,
       "justify_items": null,
       "left": null,
       "margin": null,
       "max_height": null,
       "max_width": null,
       "min_height": null,
       "min_width": null,
       "object_fit": null,
       "object_position": null,
       "order": null,
       "overflow": null,
       "overflow_x": null,
       "overflow_y": null,
       "padding": null,
       "right": null,
       "top": null,
       "visibility": null,
       "width": null
      }
     },
     "23af2f5d55254819a259326dbce8c42d": {
      "model_module": "@jupyter-widgets/controls",
      "model_module_version": "1.5.0",
      "model_name": "HTMLModel",
      "state": {
       "_dom_classes": [],
       "_model_module": "@jupyter-widgets/controls",
       "_model_module_version": "1.5.0",
       "_model_name": "HTMLModel",
       "_view_count": null,
       "_view_module": "@jupyter-widgets/controls",
       "_view_module_version": "1.5.0",
       "_view_name": "HTMLView",
       "description": "",
       "description_tooltip": null,
       "layout": "IPY_MODEL_ce869244e7364cf88c3bc09471230052",
       "placeholder": "​",
       "style": "IPY_MODEL_463cef466889435ca991c76d9644cde9",
       "value": "Downloading: 100%"
      }
     },
     "252b750d8fcc4e70b88fe7ce03cc65fe": {
      "model_module": "@jupyter-widgets/base",
      "model_module_version": "1.2.0",
      "model_name": "LayoutModel",
      "state": {
       "_model_module": "@jupyter-widgets/base",
       "_model_module_version": "1.2.0",
       "_model_name": "LayoutModel",
       "_view_count": null,
       "_view_module": "@jupyter-widgets/base",
       "_view_module_version": "1.2.0",
       "_view_name": "LayoutView",
       "align_content": null,
       "align_items": null,
       "align_self": null,
       "border": null,
       "bottom": null,
       "display": null,
       "flex": null,
       "flex_flow": null,
       "grid_area": null,
       "grid_auto_columns": null,
       "grid_auto_flow": null,
       "grid_auto_rows": null,
       "grid_column": null,
       "grid_gap": null,
       "grid_row": null,
       "grid_template_areas": null,
       "grid_template_columns": null,
       "grid_template_rows": null,
       "height": null,
       "justify_content": null,
       "justify_items": null,
       "left": null,
       "margin": null,
       "max_height": null,
       "max_width": null,
       "min_height": null,
       "min_width": null,
       "object_fit": null,
       "object_position": null,
       "order": null,
       "overflow": null,
       "overflow_x": null,
       "overflow_y": null,
       "padding": null,
       "right": null,
       "top": null,
       "visibility": null,
       "width": null
      }
     },
     "2e766f6abfee44759191eeef356ffaa0": {
      "model_module": "@jupyter-widgets/controls",
      "model_module_version": "1.5.0",
      "model_name": "FloatProgressModel",
      "state": {
       "_dom_classes": [],
       "_model_module": "@jupyter-widgets/controls",
       "_model_module_version": "1.5.0",
       "_model_name": "FloatProgressModel",
       "_view_count": null,
       "_view_module": "@jupyter-widgets/controls",
       "_view_module_version": "1.5.0",
       "_view_name": "ProgressView",
       "bar_style": "success",
       "description": "",
       "description_tooltip": null,
       "layout": "IPY_MODEL_917c910d6e524e9aa31f478d43203878",
       "max": 213450,
       "min": 0,
       "orientation": "horizontal",
       "style": "IPY_MODEL_a5d0c47ac5f741daa2791acc229ea63d",
       "value": 213450
      }
     },
     "2f2ebef405ef448686459491f949516f": {
      "model_module": "@jupyter-widgets/base",
      "model_module_version": "1.2.0",
      "model_name": "LayoutModel",
      "state": {
       "_model_module": "@jupyter-widgets/base",
       "_model_module_version": "1.2.0",
       "_model_name": "LayoutModel",
       "_view_count": null,
       "_view_module": "@jupyter-widgets/base",
       "_view_module_version": "1.2.0",
       "_view_name": "LayoutView",
       "align_content": null,
       "align_items": null,
       "align_self": null,
       "border": null,
       "bottom": null,
       "display": null,
       "flex": null,
       "flex_flow": null,
       "grid_area": null,
       "grid_auto_columns": null,
       "grid_auto_flow": null,
       "grid_auto_rows": null,
       "grid_column": null,
       "grid_gap": null,
       "grid_row": null,
       "grid_template_areas": null,
       "grid_template_columns": null,
       "grid_template_rows": null,
       "height": null,
       "justify_content": null,
       "justify_items": null,
       "left": null,
       "margin": null,
       "max_height": null,
       "max_width": null,
       "min_height": null,
       "min_width": null,
       "object_fit": null,
       "object_position": null,
       "order": null,
       "overflow": null,
       "overflow_x": null,
       "overflow_y": null,
       "padding": null,
       "right": null,
       "top": null,
       "visibility": null,
       "width": null
      }
     },
     "31133d21c3e34f59b1fa7852467ff061": {
      "model_module": "@jupyter-widgets/base",
      "model_module_version": "1.2.0",
      "model_name": "LayoutModel",
      "state": {
       "_model_module": "@jupyter-widgets/base",
       "_model_module_version": "1.2.0",
       "_model_name": "LayoutModel",
       "_view_count": null,
       "_view_module": "@jupyter-widgets/base",
       "_view_module_version": "1.2.0",
       "_view_name": "LayoutView",
       "align_content": null,
       "align_items": null,
       "align_self": null,
       "border": null,
       "bottom": null,
       "display": null,
       "flex": null,
       "flex_flow": null,
       "grid_area": null,
       "grid_auto_columns": null,
       "grid_auto_flow": null,
       "grid_auto_rows": null,
       "grid_column": null,
       "grid_gap": null,
       "grid_row": null,
       "grid_template_areas": null,
       "grid_template_columns": null,
       "grid_template_rows": null,
       "height": null,
       "justify_content": null,
       "justify_items": null,
       "left": null,
       "margin": null,
       "max_height": null,
       "max_width": null,
       "min_height": null,
       "min_width": null,
       "object_fit": null,
       "object_position": null,
       "order": null,
       "overflow": null,
       "overflow_x": null,
       "overflow_y": null,
       "padding": null,
       "right": null,
       "top": null,
       "visibility": null,
       "width": null
      }
     },
     "36471f5ad7d3434888d7ce0453fd2b40": {
      "model_module": "@jupyter-widgets/controls",
      "model_module_version": "1.5.0",
      "model_name": "HBoxModel",
      "state": {
       "_dom_classes": [],
       "_model_module": "@jupyter-widgets/controls",
       "_model_module_version": "1.5.0",
       "_model_name": "HBoxModel",
       "_view_count": null,
       "_view_module": "@jupyter-widgets/controls",
       "_view_module_version": "1.5.0",
       "_view_name": "HBoxView",
       "box_style": "",
       "children": [
        "IPY_MODEL_8f1674903e344448a35c0022e6c62200",
        "IPY_MODEL_9ee29adca72249a892f199fa5fb42759",
        "IPY_MODEL_423cb34593a34608b410ba63ea9323f2"
       ],
       "layout": "IPY_MODEL_31133d21c3e34f59b1fa7852467ff061"
      }
     },
     "3bd0cb80b6c34ca08ecf444f1fb7a752": {
      "model_module": "@jupyter-widgets/controls",
      "model_module_version": "1.5.0",
      "model_name": "HTMLModel",
      "state": {
       "_dom_classes": [],
       "_model_module": "@jupyter-widgets/controls",
       "_model_module_version": "1.5.0",
       "_model_name": "HTMLModel",
       "_view_count": null,
       "_view_module": "@jupyter-widgets/controls",
       "_view_module_version": "1.5.0",
       "_view_name": "HTMLView",
       "description": "",
       "description_tooltip": null,
       "layout": "IPY_MODEL_e885c8af318244dcbe1140ab2893dfaf",
       "placeholder": "​",
       "style": "IPY_MODEL_200b6886a5254463a7e1731b90706586",
       "value": " 213k/213k [00:00&lt;00:00, 431kB/s]"
      }
     },
     "423cb34593a34608b410ba63ea9323f2": {
      "model_module": "@jupyter-widgets/controls",
      "model_module_version": "1.5.0",
      "model_name": "HTMLModel",
      "state": {
       "_dom_classes": [],
       "_model_module": "@jupyter-widgets/controls",
       "_model_module_version": "1.5.0",
       "_model_name": "HTMLModel",
       "_view_count": null,
       "_view_module": "@jupyter-widgets/controls",
       "_view_module_version": "1.5.0",
       "_view_name": "HTMLView",
       "description": "",
       "description_tooltip": null,
       "layout": "IPY_MODEL_5a23138b5b694e36990d937fc70f6c7e",
       "placeholder": "​",
       "style": "IPY_MODEL_e0fa9cd6eb754945bd06f78795ca50d3",
       "value": " 570/570 [00:00&lt;00:00, 17.2kB/s]"
      }
     },
     "4337ca445a884b47819b7032060b992b": {
      "model_module": "@jupyter-widgets/base",
      "model_module_version": "1.2.0",
      "model_name": "LayoutModel",
      "state": {
       "_model_module": "@jupyter-widgets/base",
       "_model_module_version": "1.2.0",
       "_model_name": "LayoutModel",
       "_view_count": null,
       "_view_module": "@jupyter-widgets/base",
       "_view_module_version": "1.2.0",
       "_view_name": "LayoutView",
       "align_content": null,
       "align_items": null,
       "align_self": null,
       "border": null,
       "bottom": null,
       "display": null,
       "flex": null,
       "flex_flow": null,
       "grid_area": null,
       "grid_auto_columns": null,
       "grid_auto_flow": null,
       "grid_auto_rows": null,
       "grid_column": null,
       "grid_gap": null,
       "grid_row": null,
       "grid_template_areas": null,
       "grid_template_columns": null,
       "grid_template_rows": null,
       "height": null,
       "justify_content": null,
       "justify_items": null,
       "left": null,
       "margin": null,
       "max_height": null,
       "max_width": null,
       "min_height": null,
       "min_width": null,
       "object_fit": null,
       "object_position": null,
       "order": null,
       "overflow": null,
       "overflow_x": null,
       "overflow_y": null,
       "padding": null,
       "right": null,
       "top": null,
       "visibility": null,
       "width": null
      }
     },
     "463cef466889435ca991c76d9644cde9": {
      "model_module": "@jupyter-widgets/controls",
      "model_module_version": "1.5.0",
      "model_name": "DescriptionStyleModel",
      "state": {
       "_model_module": "@jupyter-widgets/controls",
       "_model_module_version": "1.5.0",
       "_model_name": "DescriptionStyleModel",
       "_view_count": null,
       "_view_module": "@jupyter-widgets/base",
       "_view_module_version": "1.2.0",
       "_view_name": "StyleView",
       "description_width": ""
      }
     },
     "5a23138b5b694e36990d937fc70f6c7e": {
      "model_module": "@jupyter-widgets/base",
      "model_module_version": "1.2.0",
      "model_name": "LayoutModel",
      "state": {
       "_model_module": "@jupyter-widgets/base",
       "_model_module_version": "1.2.0",
       "_model_name": "LayoutModel",
       "_view_count": null,
       "_view_module": "@jupyter-widgets/base",
       "_view_module_version": "1.2.0",
       "_view_name": "LayoutView",
       "align_content": null,
       "align_items": null,
       "align_self": null,
       "border": null,
       "bottom": null,
       "display": null,
       "flex": null,
       "flex_flow": null,
       "grid_area": null,
       "grid_auto_columns": null,
       "grid_auto_flow": null,
       "grid_auto_rows": null,
       "grid_column": null,
       "grid_gap": null,
       "grid_row": null,
       "grid_template_areas": null,
       "grid_template_columns": null,
       "grid_template_rows": null,
       "height": null,
       "justify_content": null,
       "justify_items": null,
       "left": null,
       "margin": null,
       "max_height": null,
       "max_width": null,
       "min_height": null,
       "min_width": null,
       "object_fit": null,
       "object_position": null,
       "order": null,
       "overflow": null,
       "overflow_x": null,
       "overflow_y": null,
       "padding": null,
       "right": null,
       "top": null,
       "visibility": null,
       "width": null
      }
     },
     "6d934c5ed3dc40479094b05dff6447fb": {
      "model_module": "@jupyter-widgets/controls",
      "model_module_version": "1.5.0",
      "model_name": "HTMLModel",
      "state": {
       "_dom_classes": [],
       "_model_module": "@jupyter-widgets/controls",
       "_model_module_version": "1.5.0",
       "_model_name": "HTMLModel",
       "_view_count": null,
       "_view_module": "@jupyter-widgets/controls",
       "_view_module_version": "1.5.0",
       "_view_name": "HTMLView",
       "description": "",
       "description_tooltip": null,
       "layout": "IPY_MODEL_bf3d8378bb4949e883972b1deceb2396",
       "placeholder": "​",
       "style": "IPY_MODEL_1abd0ff46a1a469abd1c3ddc5ce63429",
       "value": " 436k/436k [00:00&lt;00:00, 604kB/s]"
      }
     },
     "6f2d672a11704eb0874db49aa1202ded": {
      "model_module": "@jupyter-widgets/controls",
      "model_module_version": "1.5.0",
      "model_name": "FloatProgressModel",
      "state": {
       "_dom_classes": [],
       "_model_module": "@jupyter-widgets/controls",
       "_model_module_version": "1.5.0",
       "_model_name": "FloatProgressModel",
       "_view_count": null,
       "_view_module": "@jupyter-widgets/controls",
       "_view_module_version": "1.5.0",
       "_view_name": "ProgressView",
       "bar_style": "success",
       "description": "",
       "description_tooltip": null,
       "layout": "IPY_MODEL_223b1b6562aa4b9b801c3d138239b8a0",
       "max": 435797,
       "min": 0,
       "orientation": "horizontal",
       "style": "IPY_MODEL_a25cbeec8e124c18bf6ca639bd705a00",
       "value": 435797
      }
     },
     "833d575b8e724bc882aea28e4409b72e": {
      "model_module": "@jupyter-widgets/controls",
      "model_module_version": "1.5.0",
      "model_name": "DescriptionStyleModel",
      "state": {
       "_model_module": "@jupyter-widgets/controls",
       "_model_module_version": "1.5.0",
       "_model_name": "DescriptionStyleModel",
       "_view_count": null,
       "_view_module": "@jupyter-widgets/base",
       "_view_module_version": "1.2.0",
       "_view_name": "StyleView",
       "description_width": ""
      }
     },
     "8bff10143c764280a7b4a16763d1e3b4": {
      "model_module": "@jupyter-widgets/controls",
      "model_module_version": "1.5.0",
      "model_name": "FloatProgressModel",
      "state": {
       "_dom_classes": [],
       "_model_module": "@jupyter-widgets/controls",
       "_model_module_version": "1.5.0",
       "_model_name": "FloatProgressModel",
       "_view_count": null,
       "_view_module": "@jupyter-widgets/controls",
       "_view_module_version": "1.5.0",
       "_view_name": "ProgressView",
       "bar_style": "success",
       "description": "",
       "description_tooltip": null,
       "layout": "IPY_MODEL_d1909f2309244564862d6556f42a55db",
       "max": 29,
       "min": 0,
       "orientation": "horizontal",
       "style": "IPY_MODEL_16f613aeae754a2eaf1ed23fcfa52e63",
       "value": 29
      }
     },
     "8f1674903e344448a35c0022e6c62200": {
      "model_module": "@jupyter-widgets/controls",
      "model_module_version": "1.5.0",
      "model_name": "HTMLModel",
      "state": {
       "_dom_classes": [],
       "_model_module": "@jupyter-widgets/controls",
       "_model_module_version": "1.5.0",
       "_model_name": "HTMLModel",
       "_view_count": null,
       "_view_module": "@jupyter-widgets/controls",
       "_view_module_version": "1.5.0",
       "_view_name": "HTMLView",
       "description": "",
       "description_tooltip": null,
       "layout": "IPY_MODEL_2f2ebef405ef448686459491f949516f",
       "placeholder": "​",
       "style": "IPY_MODEL_972ee1559fc5443a8e0d0bc6197099b6",
       "value": "Downloading: 100%"
      }
     },
     "8f7c6a4b8ec7479bbef9d65b01689adb": {
      "model_module": "@jupyter-widgets/controls",
      "model_module_version": "1.5.0",
      "model_name": "DescriptionStyleModel",
      "state": {
       "_model_module": "@jupyter-widgets/controls",
       "_model_module_version": "1.5.0",
       "_model_name": "DescriptionStyleModel",
       "_view_count": null,
       "_view_module": "@jupyter-widgets/base",
       "_view_module_version": "1.2.0",
       "_view_name": "StyleView",
       "description_width": ""
      }
     },
     "917c910d6e524e9aa31f478d43203878": {
      "model_module": "@jupyter-widgets/base",
      "model_module_version": "1.2.0",
      "model_name": "LayoutModel",
      "state": {
       "_model_module": "@jupyter-widgets/base",
       "_model_module_version": "1.2.0",
       "_model_name": "LayoutModel",
       "_view_count": null,
       "_view_module": "@jupyter-widgets/base",
       "_view_module_version": "1.2.0",
       "_view_name": "LayoutView",
       "align_content": null,
       "align_items": null,
       "align_self": null,
       "border": null,
       "bottom": null,
       "display": null,
       "flex": null,
       "flex_flow": null,
       "grid_area": null,
       "grid_auto_columns": null,
       "grid_auto_flow": null,
       "grid_auto_rows": null,
       "grid_column": null,
       "grid_gap": null,
       "grid_row": null,
       "grid_template_areas": null,
       "grid_template_columns": null,
       "grid_template_rows": null,
       "height": null,
       "justify_content": null,
       "justify_items": null,
       "left": null,
       "margin": null,
       "max_height": null,
       "max_width": null,
       "min_height": null,
       "min_width": null,
       "object_fit": null,
       "object_position": null,
       "order": null,
       "overflow": null,
       "overflow_x": null,
       "overflow_y": null,
       "padding": null,
       "right": null,
       "top": null,
       "visibility": null,
       "width": null
      }
     },
     "972ee1559fc5443a8e0d0bc6197099b6": {
      "model_module": "@jupyter-widgets/controls",
      "model_module_version": "1.5.0",
      "model_name": "DescriptionStyleModel",
      "state": {
       "_model_module": "@jupyter-widgets/controls",
       "_model_module_version": "1.5.0",
       "_model_name": "DescriptionStyleModel",
       "_view_count": null,
       "_view_module": "@jupyter-widgets/base",
       "_view_module_version": "1.2.0",
       "_view_name": "StyleView",
       "description_width": ""
      }
     },
     "9a88ccb94eb8460593c3cbce6b004ac6": {
      "model_module": "@jupyter-widgets/controls",
      "model_module_version": "1.5.0",
      "model_name": "HBoxModel",
      "state": {
       "_dom_classes": [],
       "_model_module": "@jupyter-widgets/controls",
       "_model_module_version": "1.5.0",
       "_model_name": "HBoxModel",
       "_view_count": null,
       "_view_module": "@jupyter-widgets/controls",
       "_view_module_version": "1.5.0",
       "_view_name": "HBoxView",
       "box_style": "",
       "children": [
        "IPY_MODEL_dfc61f8b05fa4f21991f6f696f09f5fe",
        "IPY_MODEL_034817adc9c24151b9c5fdf218d012d7",
        "IPY_MODEL_9eca6aaf93a64d1486aa41cfe1cfb7db"
       ],
       "layout": "IPY_MODEL_c4891283deba4733a57d2bb2697529d8"
      }
     },
     "9acb9611232a4a2c9b5d18c45cafb8dd": {
      "model_module": "@jupyter-widgets/controls",
      "model_module_version": "1.5.0",
      "model_name": "ProgressStyleModel",
      "state": {
       "_model_module": "@jupyter-widgets/controls",
       "_model_module_version": "1.5.0",
       "_model_name": "ProgressStyleModel",
       "_view_count": null,
       "_view_module": "@jupyter-widgets/base",
       "_view_module_version": "1.2.0",
       "_view_name": "StyleView",
       "bar_color": null,
       "description_width": ""
      }
     },
     "9e73375e47894e9cbcb119c189679a9e": {
      "model_module": "@jupyter-widgets/base",
      "model_module_version": "1.2.0",
      "model_name": "LayoutModel",
      "state": {
       "_model_module": "@jupyter-widgets/base",
       "_model_module_version": "1.2.0",
       "_model_name": "LayoutModel",
       "_view_count": null,
       "_view_module": "@jupyter-widgets/base",
       "_view_module_version": "1.2.0",
       "_view_name": "LayoutView",
       "align_content": null,
       "align_items": null,
       "align_self": null,
       "border": null,
       "bottom": null,
       "display": null,
       "flex": null,
       "flex_flow": null,
       "grid_area": null,
       "grid_auto_columns": null,
       "grid_auto_flow": null,
       "grid_auto_rows": null,
       "grid_column": null,
       "grid_gap": null,
       "grid_row": null,
       "grid_template_areas": null,
       "grid_template_columns": null,
       "grid_template_rows": null,
       "height": null,
       "justify_content": null,
       "justify_items": null,
       "left": null,
       "margin": null,
       "max_height": null,
       "max_width": null,
       "min_height": null,
       "min_width": null,
       "object_fit": null,
       "object_position": null,
       "order": null,
       "overflow": null,
       "overflow_x": null,
       "overflow_y": null,
       "padding": null,
       "right": null,
       "top": null,
       "visibility": null,
       "width": null
      }
     },
     "9eca6aaf93a64d1486aa41cfe1cfb7db": {
      "model_module": "@jupyter-widgets/controls",
      "model_module_version": "1.5.0",
      "model_name": "HTMLModel",
      "state": {
       "_dom_classes": [],
       "_model_module": "@jupyter-widgets/controls",
       "_model_module_version": "1.5.0",
       "_model_name": "HTMLModel",
       "_view_count": null,
       "_view_module": "@jupyter-widgets/controls",
       "_view_module_version": "1.5.0",
       "_view_name": "HTMLView",
       "description": "",
       "description_tooltip": null,
       "layout": "IPY_MODEL_df1dcb7633e34bd7ba2d5c4fde202766",
       "placeholder": "​",
       "style": "IPY_MODEL_c170d0d5dd9e4bc08654684436a86a5e",
       "value": " 527M/527M [00:25&lt;00:00, 22.2MB/s]"
      }
     },
     "9ee29adca72249a892f199fa5fb42759": {
      "model_module": "@jupyter-widgets/controls",
      "model_module_version": "1.5.0",
      "model_name": "FloatProgressModel",
      "state": {
       "_dom_classes": [],
       "_model_module": "@jupyter-widgets/controls",
       "_model_module_version": "1.5.0",
       "_model_name": "FloatProgressModel",
       "_view_count": null,
       "_view_module": "@jupyter-widgets/controls",
       "_view_module_version": "1.5.0",
       "_view_name": "ProgressView",
       "bar_style": "success",
       "description": "",
       "description_tooltip": null,
       "layout": "IPY_MODEL_f33cfb949c3d45a399347c34a9763c41",
       "max": 570,
       "min": 0,
       "orientation": "horizontal",
       "style": "IPY_MODEL_bc43c1bbf81944beb8ee24959ab017ed",
       "value": 570
      }
     },
     "a25cbeec8e124c18bf6ca639bd705a00": {
      "model_module": "@jupyter-widgets/controls",
      "model_module_version": "1.5.0",
      "model_name": "ProgressStyleModel",
      "state": {
       "_model_module": "@jupyter-widgets/controls",
       "_model_module_version": "1.5.0",
       "_model_name": "ProgressStyleModel",
       "_view_count": null,
       "_view_module": "@jupyter-widgets/base",
       "_view_module_version": "1.2.0",
       "_view_name": "StyleView",
       "bar_color": null,
       "description_width": ""
      }
     },
     "a5d0c47ac5f741daa2791acc229ea63d": {
      "model_module": "@jupyter-widgets/controls",
      "model_module_version": "1.5.0",
      "model_name": "ProgressStyleModel",
      "state": {
       "_model_module": "@jupyter-widgets/controls",
       "_model_module_version": "1.5.0",
       "_model_name": "ProgressStyleModel",
       "_view_count": null,
       "_view_module": "@jupyter-widgets/base",
       "_view_module_version": "1.2.0",
       "_view_name": "StyleView",
       "bar_color": null,
       "description_width": ""
      }
     },
     "a8e6209e39ec49369fe3943ed4a20a39": {
      "model_module": "@jupyter-widgets/controls",
      "model_module_version": "1.5.0",
      "model_name": "HBoxModel",
      "state": {
       "_dom_classes": [],
       "_model_module": "@jupyter-widgets/controls",
       "_model_module_version": "1.5.0",
       "_model_name": "HBoxModel",
       "_view_count": null,
       "_view_module": "@jupyter-widgets/controls",
       "_view_module_version": "1.5.0",
       "_view_name": "HBoxView",
       "box_style": "",
       "children": [
        "IPY_MODEL_14b3f521906a4a5f9e1371a8fd97006d",
        "IPY_MODEL_2e766f6abfee44759191eeef356ffaa0",
        "IPY_MODEL_3bd0cb80b6c34ca08ecf444f1fb7a752"
       ],
       "layout": "IPY_MODEL_e06a597332174d11a5cd9b782077b84c"
      }
     },
     "af4f041bfa864537bec54491dd4cee84": {
      "model_module": "@jupyter-widgets/controls",
      "model_module_version": "1.5.0",
      "model_name": "HBoxModel",
      "state": {
       "_dom_classes": [],
       "_model_module": "@jupyter-widgets/controls",
       "_model_module_version": "1.5.0",
       "_model_name": "HBoxModel",
       "_view_count": null,
       "_view_module": "@jupyter-widgets/controls",
       "_view_module_version": "1.5.0",
       "_view_name": "HBoxView",
       "box_style": "",
       "children": [
        "IPY_MODEL_f5eb41a9464f4595b0e1179e92fe039a",
        "IPY_MODEL_8bff10143c764280a7b4a16763d1e3b4",
        "IPY_MODEL_e6e74bec49684e5c98a0be3e3759233c"
       ],
       "layout": "IPY_MODEL_d8074a11fb9f4bc4be76590a7f2ee799"
      }
     },
     "af9c116c910f42e3b65445b90061f03e": {
      "model_module": "@jupyter-widgets/controls",
      "model_module_version": "1.5.0",
      "model_name": "HBoxModel",
      "state": {
       "_dom_classes": [],
       "_model_module": "@jupyter-widgets/controls",
       "_model_module_version": "1.5.0",
       "_model_name": "HBoxModel",
       "_view_count": null,
       "_view_module": "@jupyter-widgets/controls",
       "_view_module_version": "1.5.0",
       "_view_name": "HBoxView",
       "box_style": "",
       "children": [
        "IPY_MODEL_23af2f5d55254819a259326dbce8c42d",
        "IPY_MODEL_6f2d672a11704eb0874db49aa1202ded",
        "IPY_MODEL_6d934c5ed3dc40479094b05dff6447fb"
       ],
       "layout": "IPY_MODEL_252b750d8fcc4e70b88fe7ce03cc65fe"
      }
     },
     "bc43c1bbf81944beb8ee24959ab017ed": {
      "model_module": "@jupyter-widgets/controls",
      "model_module_version": "1.5.0",
      "model_name": "ProgressStyleModel",
      "state": {
       "_model_module": "@jupyter-widgets/controls",
       "_model_module_version": "1.5.0",
       "_model_name": "ProgressStyleModel",
       "_view_count": null,
       "_view_module": "@jupyter-widgets/base",
       "_view_module_version": "1.2.0",
       "_view_name": "StyleView",
       "bar_color": null,
       "description_width": ""
      }
     },
     "bf3d8378bb4949e883972b1deceb2396": {
      "model_module": "@jupyter-widgets/base",
      "model_module_version": "1.2.0",
      "model_name": "LayoutModel",
      "state": {
       "_model_module": "@jupyter-widgets/base",
       "_model_module_version": "1.2.0",
       "_model_name": "LayoutModel",
       "_view_count": null,
       "_view_module": "@jupyter-widgets/base",
       "_view_module_version": "1.2.0",
       "_view_name": "LayoutView",
       "align_content": null,
       "align_items": null,
       "align_self": null,
       "border": null,
       "bottom": null,
       "display": null,
       "flex": null,
       "flex_flow": null,
       "grid_area": null,
       "grid_auto_columns": null,
       "grid_auto_flow": null,
       "grid_auto_rows": null,
       "grid_column": null,
       "grid_gap": null,
       "grid_row": null,
       "grid_template_areas": null,
       "grid_template_columns": null,
       "grid_template_rows": null,
       "height": null,
       "justify_content": null,
       "justify_items": null,
       "left": null,
       "margin": null,
       "max_height": null,
       "max_width": null,
       "min_height": null,
       "min_width": null,
       "object_fit": null,
       "object_position": null,
       "order": null,
       "overflow": null,
       "overflow_x": null,
       "overflow_y": null,
       "padding": null,
       "right": null,
       "top": null,
       "visibility": null,
       "width": null
      }
     },
     "c170d0d5dd9e4bc08654684436a86a5e": {
      "model_module": "@jupyter-widgets/controls",
      "model_module_version": "1.5.0",
      "model_name": "DescriptionStyleModel",
      "state": {
       "_model_module": "@jupyter-widgets/controls",
       "_model_module_version": "1.5.0",
       "_model_name": "DescriptionStyleModel",
       "_view_count": null,
       "_view_module": "@jupyter-widgets/base",
       "_view_module_version": "1.2.0",
       "_view_name": "StyleView",
       "description_width": ""
      }
     },
     "c4891283deba4733a57d2bb2697529d8": {
      "model_module": "@jupyter-widgets/base",
      "model_module_version": "1.2.0",
      "model_name": "LayoutModel",
      "state": {
       "_model_module": "@jupyter-widgets/base",
       "_model_module_version": "1.2.0",
       "_model_name": "LayoutModel",
       "_view_count": null,
       "_view_module": "@jupyter-widgets/base",
       "_view_module_version": "1.2.0",
       "_view_name": "LayoutView",
       "align_content": null,
       "align_items": null,
       "align_self": null,
       "border": null,
       "bottom": null,
       "display": null,
       "flex": null,
       "flex_flow": null,
       "grid_area": null,
       "grid_auto_columns": null,
       "grid_auto_flow": null,
       "grid_auto_rows": null,
       "grid_column": null,
       "grid_gap": null,
       "grid_row": null,
       "grid_template_areas": null,
       "grid_template_columns": null,
       "grid_template_rows": null,
       "height": null,
       "justify_content": null,
       "justify_items": null,
       "left": null,
       "margin": null,
       "max_height": null,
       "max_width": null,
       "min_height": null,
       "min_width": null,
       "object_fit": null,
       "object_position": null,
       "order": null,
       "overflow": null,
       "overflow_x": null,
       "overflow_y": null,
       "padding": null,
       "right": null,
       "top": null,
       "visibility": null,
       "width": null
      }
     },
     "ce869244e7364cf88c3bc09471230052": {
      "model_module": "@jupyter-widgets/base",
      "model_module_version": "1.2.0",
      "model_name": "LayoutModel",
      "state": {
       "_model_module": "@jupyter-widgets/base",
       "_model_module_version": "1.2.0",
       "_model_name": "LayoutModel",
       "_view_count": null,
       "_view_module": "@jupyter-widgets/base",
       "_view_module_version": "1.2.0",
       "_view_name": "LayoutView",
       "align_content": null,
       "align_items": null,
       "align_self": null,
       "border": null,
       "bottom": null,
       "display": null,
       "flex": null,
       "flex_flow": null,
       "grid_area": null,
       "grid_auto_columns": null,
       "grid_auto_flow": null,
       "grid_auto_rows": null,
       "grid_column": null,
       "grid_gap": null,
       "grid_row": null,
       "grid_template_areas": null,
       "grid_template_columns": null,
       "grid_template_rows": null,
       "height": null,
       "justify_content": null,
       "justify_items": null,
       "left": null,
       "margin": null,
       "max_height": null,
       "max_width": null,
       "min_height": null,
       "min_width": null,
       "object_fit": null,
       "object_position": null,
       "order": null,
       "overflow": null,
       "overflow_x": null,
       "overflow_y": null,
       "padding": null,
       "right": null,
       "top": null,
       "visibility": null,
       "width": null
      }
     },
     "d1909f2309244564862d6556f42a55db": {
      "model_module": "@jupyter-widgets/base",
      "model_module_version": "1.2.0",
      "model_name": "LayoutModel",
      "state": {
       "_model_module": "@jupyter-widgets/base",
       "_model_module_version": "1.2.0",
       "_model_name": "LayoutModel",
       "_view_count": null,
       "_view_module": "@jupyter-widgets/base",
       "_view_module_version": "1.2.0",
       "_view_name": "LayoutView",
       "align_content": null,
       "align_items": null,
       "align_self": null,
       "border": null,
       "bottom": null,
       "display": null,
       "flex": null,
       "flex_flow": null,
       "grid_area": null,
       "grid_auto_columns": null,
       "grid_auto_flow": null,
       "grid_auto_rows": null,
       "grid_column": null,
       "grid_gap": null,
       "grid_row": null,
       "grid_template_areas": null,
       "grid_template_columns": null,
       "grid_template_rows": null,
       "height": null,
       "justify_content": null,
       "justify_items": null,
       "left": null,
       "margin": null,
       "max_height": null,
       "max_width": null,
       "min_height": null,
       "min_width": null,
       "object_fit": null,
       "object_position": null,
       "order": null,
       "overflow": null,
       "overflow_x": null,
       "overflow_y": null,
       "padding": null,
       "right": null,
       "top": null,
       "visibility": null,
       "width": null
      }
     },
     "d65bd7d0e6964ae89e1429f57d9136f2": {
      "model_module": "@jupyter-widgets/base",
      "model_module_version": "1.2.0",
      "model_name": "LayoutModel",
      "state": {
       "_model_module": "@jupyter-widgets/base",
       "_model_module_version": "1.2.0",
       "_model_name": "LayoutModel",
       "_view_count": null,
       "_view_module": "@jupyter-widgets/base",
       "_view_module_version": "1.2.0",
       "_view_name": "LayoutView",
       "align_content": null,
       "align_items": null,
       "align_self": null,
       "border": null,
       "bottom": null,
       "display": null,
       "flex": null,
       "flex_flow": null,
       "grid_area": null,
       "grid_auto_columns": null,
       "grid_auto_flow": null,
       "grid_auto_rows": null,
       "grid_column": null,
       "grid_gap": null,
       "grid_row": null,
       "grid_template_areas": null,
       "grid_template_columns": null,
       "grid_template_rows": null,
       "height": null,
       "justify_content": null,
       "justify_items": null,
       "left": null,
       "margin": null,
       "max_height": null,
       "max_width": null,
       "min_height": null,
       "min_width": null,
       "object_fit": null,
       "object_position": null,
       "order": null,
       "overflow": null,
       "overflow_x": null,
       "overflow_y": null,
       "padding": null,
       "right": null,
       "top": null,
       "visibility": null,
       "width": null
      }
     },
     "d8074a11fb9f4bc4be76590a7f2ee799": {
      "model_module": "@jupyter-widgets/base",
      "model_module_version": "1.2.0",
      "model_name": "LayoutModel",
      "state": {
       "_model_module": "@jupyter-widgets/base",
       "_model_module_version": "1.2.0",
       "_model_name": "LayoutModel",
       "_view_count": null,
       "_view_module": "@jupyter-widgets/base",
       "_view_module_version": "1.2.0",
       "_view_name": "LayoutView",
       "align_content": null,
       "align_items": null,
       "align_self": null,
       "border": null,
       "bottom": null,
       "display": null,
       "flex": null,
       "flex_flow": null,
       "grid_area": null,
       "grid_auto_columns": null,
       "grid_auto_flow": null,
       "grid_auto_rows": null,
       "grid_column": null,
       "grid_gap": null,
       "grid_row": null,
       "grid_template_areas": null,
       "grid_template_columns": null,
       "grid_template_rows": null,
       "height": null,
       "justify_content": null,
       "justify_items": null,
       "left": null,
       "margin": null,
       "max_height": null,
       "max_width": null,
       "min_height": null,
       "min_width": null,
       "object_fit": null,
       "object_position": null,
       "order": null,
       "overflow": null,
       "overflow_x": null,
       "overflow_y": null,
       "padding": null,
       "right": null,
       "top": null,
       "visibility": null,
       "width": null
      }
     },
     "df1dcb7633e34bd7ba2d5c4fde202766": {
      "model_module": "@jupyter-widgets/base",
      "model_module_version": "1.2.0",
      "model_name": "LayoutModel",
      "state": {
       "_model_module": "@jupyter-widgets/base",
       "_model_module_version": "1.2.0",
       "_model_name": "LayoutModel",
       "_view_count": null,
       "_view_module": "@jupyter-widgets/base",
       "_view_module_version": "1.2.0",
       "_view_name": "LayoutView",
       "align_content": null,
       "align_items": null,
       "align_self": null,
       "border": null,
       "bottom": null,
       "display": null,
       "flex": null,
       "flex_flow": null,
       "grid_area": null,
       "grid_auto_columns": null,
       "grid_auto_flow": null,
       "grid_auto_rows": null,
       "grid_column": null,
       "grid_gap": null,
       "grid_row": null,
       "grid_template_areas": null,
       "grid_template_columns": null,
       "grid_template_rows": null,
       "height": null,
       "justify_content": null,
       "justify_items": null,
       "left": null,
       "margin": null,
       "max_height": null,
       "max_width": null,
       "min_height": null,
       "min_width": null,
       "object_fit": null,
       "object_position": null,
       "order": null,
       "overflow": null,
       "overflow_x": null,
       "overflow_y": null,
       "padding": null,
       "right": null,
       "top": null,
       "visibility": null,
       "width": null
      }
     },
     "dfc61f8b05fa4f21991f6f696f09f5fe": {
      "model_module": "@jupyter-widgets/controls",
      "model_module_version": "1.5.0",
      "model_name": "HTMLModel",
      "state": {
       "_dom_classes": [],
       "_model_module": "@jupyter-widgets/controls",
       "_model_module_version": "1.5.0",
       "_model_name": "HTMLModel",
       "_view_count": null,
       "_view_module": "@jupyter-widgets/controls",
       "_view_module_version": "1.5.0",
       "_view_name": "HTMLView",
       "description": "",
       "description_tooltip": null,
       "layout": "IPY_MODEL_07e1099b4a0343f881a4025b2bedf30c",
       "placeholder": "​",
       "style": "IPY_MODEL_8f7c6a4b8ec7479bbef9d65b01689adb",
       "value": "Downloading: 100%"
      }
     },
     "e06a597332174d11a5cd9b782077b84c": {
      "model_module": "@jupyter-widgets/base",
      "model_module_version": "1.2.0",
      "model_name": "LayoutModel",
      "state": {
       "_model_module": "@jupyter-widgets/base",
       "_model_module_version": "1.2.0",
       "_model_name": "LayoutModel",
       "_view_count": null,
       "_view_module": "@jupyter-widgets/base",
       "_view_module_version": "1.2.0",
       "_view_name": "LayoutView",
       "align_content": null,
       "align_items": null,
       "align_self": null,
       "border": null,
       "bottom": null,
       "display": null,
       "flex": null,
       "flex_flow": null,
       "grid_area": null,
       "grid_auto_columns": null,
       "grid_auto_flow": null,
       "grid_auto_rows": null,
       "grid_column": null,
       "grid_gap": null,
       "grid_row": null,
       "grid_template_areas": null,
       "grid_template_columns": null,
       "grid_template_rows": null,
       "height": null,
       "justify_content": null,
       "justify_items": null,
       "left": null,
       "margin": null,
       "max_height": null,
       "max_width": null,
       "min_height": null,
       "min_width": null,
       "object_fit": null,
       "object_position": null,
       "order": null,
       "overflow": null,
       "overflow_x": null,
       "overflow_y": null,
       "padding": null,
       "right": null,
       "top": null,
       "visibility": null,
       "width": null
      }
     },
     "e0c41307b1414559b09365dd49cf263f": {
      "model_module": "@jupyter-widgets/controls",
      "model_module_version": "1.5.0",
      "model_name": "DescriptionStyleModel",
      "state": {
       "_model_module": "@jupyter-widgets/controls",
       "_model_module_version": "1.5.0",
       "_model_name": "DescriptionStyleModel",
       "_view_count": null,
       "_view_module": "@jupyter-widgets/base",
       "_view_module_version": "1.2.0",
       "_view_name": "StyleView",
       "description_width": ""
      }
     },
     "e0fa9cd6eb754945bd06f78795ca50d3": {
      "model_module": "@jupyter-widgets/controls",
      "model_module_version": "1.5.0",
      "model_name": "DescriptionStyleModel",
      "state": {
       "_model_module": "@jupyter-widgets/controls",
       "_model_module_version": "1.5.0",
       "_model_name": "DescriptionStyleModel",
       "_view_count": null,
       "_view_module": "@jupyter-widgets/base",
       "_view_module_version": "1.2.0",
       "_view_name": "StyleView",
       "description_width": ""
      }
     },
     "e6e74bec49684e5c98a0be3e3759233c": {
      "model_module": "@jupyter-widgets/controls",
      "model_module_version": "1.5.0",
      "model_name": "HTMLModel",
      "state": {
       "_dom_classes": [],
       "_model_module": "@jupyter-widgets/controls",
       "_model_module_version": "1.5.0",
       "_model_name": "HTMLModel",
       "_view_count": null,
       "_view_module": "@jupyter-widgets/controls",
       "_view_module_version": "1.5.0",
       "_view_name": "HTMLView",
       "description": "",
       "description_tooltip": null,
       "layout": "IPY_MODEL_f20f22c07ce844d488f52f14b4cbefd9",
       "placeholder": "​",
       "style": "IPY_MODEL_174fe5c6a9284b77877752e3323a845d",
       "value": " 29.0/29.0 [00:00&lt;00:00, 890B/s]"
      }
     },
     "e885c8af318244dcbe1140ab2893dfaf": {
      "model_module": "@jupyter-widgets/base",
      "model_module_version": "1.2.0",
      "model_name": "LayoutModel",
      "state": {
       "_model_module": "@jupyter-widgets/base",
       "_model_module_version": "1.2.0",
       "_model_name": "LayoutModel",
       "_view_count": null,
       "_view_module": "@jupyter-widgets/base",
       "_view_module_version": "1.2.0",
       "_view_name": "LayoutView",
       "align_content": null,
       "align_items": null,
       "align_self": null,
       "border": null,
       "bottom": null,
       "display": null,
       "flex": null,
       "flex_flow": null,
       "grid_area": null,
       "grid_auto_columns": null,
       "grid_auto_flow": null,
       "grid_auto_rows": null,
       "grid_column": null,
       "grid_gap": null,
       "grid_row": null,
       "grid_template_areas": null,
       "grid_template_columns": null,
       "grid_template_rows": null,
       "height": null,
       "justify_content": null,
       "justify_items": null,
       "left": null,
       "margin": null,
       "max_height": null,
       "max_width": null,
       "min_height": null,
       "min_width": null,
       "object_fit": null,
       "object_position": null,
       "order": null,
       "overflow": null,
       "overflow_x": null,
       "overflow_y": null,
       "padding": null,
       "right": null,
       "top": null,
       "visibility": null,
       "width": null
      }
     },
     "f20f22c07ce844d488f52f14b4cbefd9": {
      "model_module": "@jupyter-widgets/base",
      "model_module_version": "1.2.0",
      "model_name": "LayoutModel",
      "state": {
       "_model_module": "@jupyter-widgets/base",
       "_model_module_version": "1.2.0",
       "_model_name": "LayoutModel",
       "_view_count": null,
       "_view_module": "@jupyter-widgets/base",
       "_view_module_version": "1.2.0",
       "_view_name": "LayoutView",
       "align_content": null,
       "align_items": null,
       "align_self": null,
       "border": null,
       "bottom": null,
       "display": null,
       "flex": null,
       "flex_flow": null,
       "grid_area": null,
       "grid_auto_columns": null,
       "grid_auto_flow": null,
       "grid_auto_rows": null,
       "grid_column": null,
       "grid_gap": null,
       "grid_row": null,
       "grid_template_areas": null,
       "grid_template_columns": null,
       "grid_template_rows": null,
       "height": null,
       "justify_content": null,
       "justify_items": null,
       "left": null,
       "margin": null,
       "max_height": null,
       "max_width": null,
       "min_height": null,
       "min_width": null,
       "object_fit": null,
       "object_position": null,
       "order": null,
       "overflow": null,
       "overflow_x": null,
       "overflow_y": null,
       "padding": null,
       "right": null,
       "top": null,
       "visibility": null,
       "width": null
      }
     },
     "f33cfb949c3d45a399347c34a9763c41": {
      "model_module": "@jupyter-widgets/base",
      "model_module_version": "1.2.0",
      "model_name": "LayoutModel",
      "state": {
       "_model_module": "@jupyter-widgets/base",
       "_model_module_version": "1.2.0",
       "_model_name": "LayoutModel",
       "_view_count": null,
       "_view_module": "@jupyter-widgets/base",
       "_view_module_version": "1.2.0",
       "_view_name": "LayoutView",
       "align_content": null,
       "align_items": null,
       "align_self": null,
       "border": null,
       "bottom": null,
       "display": null,
       "flex": null,
       "flex_flow": null,
       "grid_area": null,
       "grid_auto_columns": null,
       "grid_auto_flow": null,
       "grid_auto_rows": null,
       "grid_column": null,
       "grid_gap": null,
       "grid_row": null,
       "grid_template_areas": null,
       "grid_template_columns": null,
       "grid_template_rows": null,
       "height": null,
       "justify_content": null,
       "justify_items": null,
       "left": null,
       "margin": null,
       "max_height": null,
       "max_width": null,
       "min_height": null,
       "min_width": null,
       "object_fit": null,
       "object_position": null,
       "order": null,
       "overflow": null,
       "overflow_x": null,
       "overflow_y": null,
       "padding": null,
       "right": null,
       "top": null,
       "visibility": null,
       "width": null
      }
     },
     "f5eb41a9464f4595b0e1179e92fe039a": {
      "model_module": "@jupyter-widgets/controls",
      "model_module_version": "1.5.0",
      "model_name": "HTMLModel",
      "state": {
       "_dom_classes": [],
       "_model_module": "@jupyter-widgets/controls",
       "_model_module_version": "1.5.0",
       "_model_name": "HTMLModel",
       "_view_count": null,
       "_view_module": "@jupyter-widgets/controls",
       "_view_module_version": "1.5.0",
       "_view_name": "HTMLView",
       "description": "",
       "description_tooltip": null,
       "layout": "IPY_MODEL_9e73375e47894e9cbcb119c189679a9e",
       "placeholder": "​",
       "style": "IPY_MODEL_e0c41307b1414559b09365dd49cf263f",
       "value": "Downloading: 100%"
      }
     }
    },
    "version_major": 2,
    "version_minor": 0
   }
  }
 },
 "nbformat": 4,
 "nbformat_minor": 5
}
